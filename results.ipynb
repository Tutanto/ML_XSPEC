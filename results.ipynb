{
 "cells": [
  {
   "cell_type": "code",
   "execution_count": 1,
   "metadata": {},
   "outputs": [
    {
     "name": "stderr",
     "output_type": "stream",
     "text": [
      "2024-01-11 17:36:42.019099: I tensorflow/stream_executor/platform/default/dso_loader.cc:49] Successfully opened dynamic library libcudart.so.10.1\n"
     ]
    }
   ],
   "source": [
    "import numpy as np\n",
    "from joblib import load\n",
    "from pathlib import Path\n",
    "from xspec import AllModels, AllData, Model, Plot\n",
    "from tensorflow.keras.models import load_model\n",
    "\n",
    "import matplotlib.pyplot as plt\n",
    "\n",
    "from modules.network import r_squared"
   ]
  },
  {
   "cell_type": "code",
   "execution_count": 2,
   "metadata": {},
   "outputs": [
    {
     "name": "stdout",
     "output_type": "stream",
     "text": [
      "tbvabs Version 2.3\n",
      "Cosmic absorption with grains and H2, modified from\n",
      "Wilms, Allen, & McCray, 2000, ApJ 542, 914-924\n",
      "Questions: Joern Wilms\n",
      "joern.wilms@sternwarte.uni-erlangen.de\n",
      "joern.wilms@fau.de\n",
      "\n",
      "http://pulsar.sternwarte.uni-erlangen.de/wilms/research/tbabs/\n",
      "\n",
      "PLEASE NOTICE:\n",
      "To get the model described by the above paper\n",
      "you will also have to set the abundances:\n",
      "   abund wilm\n",
      "\n",
      "Note that this routine ignores the current cross section setting\n",
      "as it always HAS to use the Verner cross sections as a baseline.\n",
      "Compton reflection from ionized medium.\n",
      "If you use results from this model in a paper\n",
      "please refer to Chris Done\n",
      "\n",
      "========================================================================\n",
      "Model TBabs<1>(rdblur<2>*rfxconv<3>*comptb<4> + diskbb<5> + comptb<6>) Source No.: 1   Active/Off\n",
      "Model Model Component  Parameter  Unit     Value\n",
      " par  comp\n",
      "   1    1   TBabs      nH         10^22    1.00000      +/-  0.0          \n",
      "   2    2   rdblur     Betor10             -2.00000     frozen\n",
      "   3    2   rdblur     Rin_M               10.0000      frozen\n",
      "   4    2   rdblur     Rout_M              1000.00      frozen\n",
      "   5    2   rdblur     Incl       deg      30.0000      +/-  0.0          \n",
      "   6    3   rfxconv    rel_refl            -1.00000     +/-  0.0          \n",
      "   7    3   rfxconv    redshift            0.0          frozen\n",
      "   8    3   rfxconv    Fe_abund            1.00000      frozen\n",
      "   9    3   rfxconv    cosIncl             0.500000     frozen\n",
      "  10    3   rfxconv    log_xi              1.00000      +/-  0.0          \n",
      "  11    4   comptb     kTs        keV      1.00000      +/-  0.0          \n",
      "  12    4   comptb     gamma               3.00000      frozen\n",
      "  13    4   comptb     alpha               2.00000      +/-  0.0          \n",
      "  14    4   comptb     delta               20.0000      +/-  0.0          \n",
      "  15    4   comptb     kTe        keV      5.00000      +/-  0.0          \n",
      "  16    4   comptb     log_A               0.0          +/-  0.0          \n",
      "  17    4   comptb     norm                1.00000      +/-  0.0          \n",
      "  18    5   diskbb     Tin        keV      1.00000      +/-  0.0          \n",
      "  19    5   diskbb     norm                1.00000      +/-  0.0          \n",
      "  20    6   comptb     kTs        keV      1.00000      +/-  0.0          \n",
      "  21    6   comptb     gamma               3.00000      frozen\n",
      "  22    6   comptb     alpha               2.00000      +/-  0.0          \n",
      "  23    6   comptb     delta               20.0000      +/-  0.0          \n",
      "  24    6   comptb     kTe        keV      5.00000      +/-  0.0          \n",
      "  25    6   comptb     log_A               0.0          +/-  0.0          \n",
      "  26    6   comptb     norm                1.00000      +/-  0.0          \n",
      "________________________________________________________________________\n",
      "\n",
      "  parameter 4 is already frozen.\n",
      "  parameter 12 is already frozen.\n",
      "\n",
      "User entered plot commands:\n",
      " Plot settings:\n",
      "   Showing of individual additive components is OFF.\n",
      "   Showing of background spectra is OFF.\n",
      "   Effective area normalization is OFF.\n",
      "   Current unit settings:\n",
      "      Energy     = keV\n",
      "      Wavelength = angstrom, with Y-Axis displayed per Hz\n",
      "   X-Axis data display mode: Energy\n",
      "   Spectra plots will be shifted to source frame by redshift value z: 0\n",
      "   Device: /null\n",
      "   Plotting of line IDs is OFF.\n",
      "   Splashpage is ON.\n",
      "   xlog for data plots is ON.\n",
      "   ylog for data plots is OFF.\n",
      "\n",
      "   Default plot rebin settings for all plot groups:\n",
      "   Min. Signif.   Max. # Bins   Error Type\n",
      "        0.00000             1         quad\n",
      "No plot commands have been entered.\n"
     ]
    },
    {
     "data": {
      "text/plain": [
       "Text(0.5, 0, 'Energy (KeV)')"
      ]
     },
     "execution_count": 2,
     "metadata": {},
     "output_type": "execute_result"
    },
    {
     "data": {
      "image/png": "[encoded data removed]",
      "text/plain": [
       "<Figure size 640x480 with 1 Axes>"
      ]
     },
     "metadata": {},
     "output_type": "display_data"
    }
   ],
   "source": [
    "# Clear existing XSPEC models and data\n",
    "AllModels.clear()\n",
    "AllData.clear()\n",
    "AllData.dummyrsp(0.7 ,20.)\n",
    "\n",
    "# Create the model\n",
    "model_name = \"TBabs*(rdblur*rfxconv*comptb + diskbb + comptb)\"\n",
    "true_model = Model(model_name)\n",
    "\n",
    "# Changing default frozen parameters to unfrozen\n",
    "true_model.rdblur.Betor10.frozen = False\n",
    "true_model.rdblur.Rout_M.frozen = True\n",
    "true_model.rdblur.Rin_M.frozen = False\n",
    "true_model.rfxconv.Fe_abund.frozen = False\n",
    "true_model.comptb.gamma.frozen = True\n",
    "true_model.comptb.delta.frozen = True\n",
    "true_model.comptb.log_A.frozen = True\n",
    "\n",
    "true_model.rdblur.Rout_M.values = 1000\n",
    "true_model.comptb.log_A.values = 8\n",
    "\n",
    "# Linking the parameters\n",
    "true_model.rfxconv.cosIncl.link = \"COSD(5)\"\n",
    "\n",
    "start = 20  # Number of the first parameter of comptb_6\n",
    "for i in range(start, start + len(true_model.comptb_6.parameterNames)):\n",
    "    true_model(i).link = true_model(i-9) # 9 is the separation between comptb and comptb_6\n",
    "\n",
    "# Collect the relevant parameter (the ones not frozen or linked)\n",
    "relevant_par = []\n",
    "for n_par in range(1, true_model.nParameters + 1):\n",
    "    if not true_model(n_par).frozen and not true_model(n_par).link:\n",
    "        relevant_par.append(n_par)\n",
    "\n",
    "\n",
    "# Set up the energy range of interest for plotting\n",
    "Plot.device = \"/null\"\n",
    "Plot.xAxis = \"keV\"\n",
    "Plot.show()\n",
    "Plot('model')\n",
    "energy = Plot.x()\n",
    "true_flux = Plot.model()\n",
    "\n",
    "plt.plot(energy, true_flux)\n",
    "plt.xscale(\"log\")\n",
    "plt.ylabel(\"Flux(1 / keV cm^-2 s)\")\n",
    "plt.xlabel(\"Energy (KeV)\")\n"
   ]
  },
  {
   "cell_type": "code",
   "execution_count": 3,
   "metadata": {},
   "outputs": [
    {
     "name": "stdout",
     "output_type": "stream",
     "text": [
      "[1.0, 0.01, 0.0, 0.0, 100000.0, 1000000.0]\n",
      "[-2.0, 0.02, -10.0, -10.0, 20.0, 20.0]\n",
      "[10.0, 0.1, 6.0, 6.0, 1000.0, 10000.0]\n",
      "[30.0, 0.3, 0.0, 0.0, 90.0, 90.0]\n",
      "[-1.0, 0.01, -1.0, -1.0, 1000000.0, 1000000.0]\n",
      "[1.0, 0.01, 0.5, 0.5, 3.0, 3.0]\n",
      "[1.0, 0.01, 1.0, 1.0, 6.0, 6.0]\n",
      "[1.0, 0.01, 0.1, 0.1, 10.0, 10.0]\n",
      "[2.0, 0.02, 0.0, 0.0, 400.0, 400.0]\n",
      "[5.0, 0.05, 0.2, 0.2, 2000.0, 2000.0]\n",
      "[1.0, 0.01, 0.0, 0.0, 1e+20, 1e+24]\n",
      "[1.0, 0.01, 0.0, 0.0, 1000.0, 1000.0]\n",
      "[1.0, 0.01, 0.0, 0.0, 1e+20, 1e+24]\n"
     ]
    }
   ],
   "source": [
    "for n_par in range(1, true_model.nParameters + 1):\n",
    "    if not true_model(n_par).frozen and not true_model(n_par).link:\n",
    "        print(true_model(n_par).values)\n"
   ]
  },
  {
   "cell_type": "code",
   "execution_count": 4,
   "metadata": {},
   "outputs": [
    {
     "name": "stderr",
     "output_type": "stream",
     "text": [
      "2024-01-11 17:36:44.119108: I tensorflow/compiler/jit/xla_cpu_device.cc:41] Not creating XLA devices, tf_xla_enable_xla_devices not set\n",
      "2024-01-11 17:36:44.120374: I tensorflow/stream_executor/platform/default/dso_loader.cc:49] Successfully opened dynamic library libcuda.so.1\n",
      "2024-01-11 17:36:44.326555: E tensorflow/stream_executor/cuda/cuda_gpu_executor.cc:927] could not open file to read NUMA node: /sys/bus/pci/devices/0000:01:00.0/numa_node\n",
      "Your kernel may have been built without NUMA support.\n",
      "2024-01-11 17:36:44.326589: I tensorflow/core/common_runtime/gpu/gpu_device.cc:1720] Found device 0 with properties: \n",
      "pciBusID: 0000:01:00.0 name: NVIDIA GeForce RTX 4080 computeCapability: 8.9\n",
      "coreClock: 2.505GHz coreCount: 76 deviceMemorySize: 15.99GiB deviceMemoryBandwidth: 667.63GiB/s\n",
      "2024-01-11 17:36:44.326623: I tensorflow/stream_executor/platform/default/dso_loader.cc:49] Successfully opened dynamic library libcudart.so.10.1\n",
      "2024-01-11 17:36:44.327585: I tensorflow/stream_executor/platform/default/dso_loader.cc:49] Successfully opened dynamic library libcublas.so.10\n",
      "2024-01-11 17:36:44.327622: I tensorflow/stream_executor/platform/default/dso_loader.cc:49] Successfully opened dynamic library libcublasLt.so.10\n",
      "2024-01-11 17:36:44.328622: I tensorflow/stream_executor/platform/default/dso_loader.cc:49] Successfully opened dynamic library libcufft.so.10\n",
      "2024-01-11 17:36:44.328762: I tensorflow/stream_executor/platform/default/dso_loader.cc:49] Successfully opened dynamic library libcurand.so.10\n",
      "2024-01-11 17:36:44.329685: I tensorflow/stream_executor/platform/default/dso_loader.cc:49] Successfully opened dynamic library libcusolver.so.10\n",
      "2024-01-11 17:36:44.330066: I tensorflow/stream_executor/platform/default/dso_loader.cc:49] Successfully opened dynamic library libcusparse.so.10\n",
      "2024-01-11 17:36:44.331914: I tensorflow/stream_executor/platform/default/dso_loader.cc:49] Successfully opened dynamic library libcudnn.so.7\n",
      "2024-01-11 17:36:44.332015: E tensorflow/stream_executor/cuda/cuda_gpu_executor.cc:927] could not open file to read NUMA node: /sys/bus/pci/devices/0000:01:00.0/numa_node\n",
      "Your kernel may have been built without NUMA support.\n",
      "2024-01-11 17:36:44.332041: E tensorflow/stream_executor/cuda/cuda_gpu_executor.cc:927] could not open file to read NUMA node: /sys/bus/pci/devices/0000:01:00.0/numa_node\n",
      "Your kernel may have been built without NUMA support.\n",
      "2024-01-11 17:36:44.332048: I tensorflow/core/common_runtime/gpu/gpu_device.cc:1862] Adding visible gpu devices: 0\n",
      "2024-01-11 17:36:44.332675: I tensorflow/core/platform/cpu_feature_guard.cc:142] This TensorFlow binary is optimized with oneAPI Deep Neural Network Library (oneDNN) to use the following CPU instructions in performance-critical operations:  SSE4.1 SSE4.2 AVX AVX2 AVX512F FMA\n",
      "To enable them in other operations, rebuild TensorFlow with the appropriate compiler flags.\n",
      "2024-01-11 17:36:44.334675: I tensorflow/compiler/jit/xla_gpu_device.cc:99] Not creating XLA devices, tf_xla_enable_xla_devices not set\n",
      "2024-01-11 17:36:44.334775: E tensorflow/stream_executor/cuda/cuda_gpu_executor.cc:927] could not open file to read NUMA node: /sys/bus/pci/devices/0000:01:00.0/numa_node\n",
      "Your kernel may have been built without NUMA support.\n",
      "2024-01-11 17:36:44.334788: I tensorflow/core/common_runtime/gpu/gpu_device.cc:1720] Found device 0 with properties: \n",
      "pciBusID: 0000:01:00.0 name: NVIDIA GeForce RTX 4080 computeCapability: 8.9\n",
      "coreClock: 2.505GHz coreCount: 76 deviceMemorySize: 15.99GiB deviceMemoryBandwidth: 667.63GiB/s\n",
      "2024-01-11 17:36:44.334811: I tensorflow/stream_executor/platform/default/dso_loader.cc:49] Successfully opened dynamic library libcudart.so.10.1\n",
      "2024-01-11 17:36:44.334821: I tensorflow/stream_executor/platform/default/dso_loader.cc:49] Successfully opened dynamic library libcublas.so.10\n",
      "2024-01-11 17:36:44.334826: I tensorflow/stream_executor/platform/default/dso_loader.cc:49] Successfully opened dynamic library libcublasLt.so.10\n",
      "2024-01-11 17:36:44.334831: I tensorflow/stream_executor/platform/default/dso_loader.cc:49] Successfully opened dynamic library libcufft.so.10\n",
      "2024-01-11 17:36:44.334835: I tensorflow/stream_executor/platform/default/dso_loader.cc:49] Successfully opened dynamic library libcurand.so.10\n",
      "2024-01-11 17:36:44.334840: I tensorflow/stream_executor/platform/default/dso_loader.cc:49] Successfully opened dynamic library libcusolver.so.10\n",
      "2024-01-11 17:36:44.334844: I tensorflow/stream_executor/platform/default/dso_loader.cc:49] Successfully opened dynamic library libcusparse.so.10\n",
      "2024-01-11 17:36:44.334849: I tensorflow/stream_executor/platform/default/dso_loader.cc:49] Successfully opened dynamic library libcudnn.so.7\n",
      "2024-01-11 17:36:44.334871: E tensorflow/stream_executor/cuda/cuda_gpu_executor.cc:927] could not open file to read NUMA node: /sys/bus/pci/devices/0000:01:00.0/numa_node\n",
      "Your kernel may have been built without NUMA support.\n",
      "2024-01-11 17:36:44.334889: E tensorflow/stream_executor/cuda/cuda_gpu_executor.cc:927] could not open file to read NUMA node: /sys/bus/pci/devices/0000:01:00.0/numa_node\n",
      "Your kernel may have been built without NUMA support.\n",
      "2024-01-11 17:36:44.334892: I tensorflow/core/common_runtime/gpu/gpu_device.cc:1862] Adding visible gpu devices: 0\n",
      "2024-01-11 17:36:44.334909: I tensorflow/stream_executor/platform/default/dso_loader.cc:49] Successfully opened dynamic library libcudart.so.10.1\n",
      "2024-01-11 17:36:45.584660: I tensorflow/core/common_runtime/gpu/gpu_device.cc:1261] Device interconnect StreamExecutor with strength 1 edge matrix:\n",
      "2024-01-11 17:36:45.584677: I tensorflow/core/common_runtime/gpu/gpu_device.cc:1267]      0 \n",
      "2024-01-11 17:36:45.584686: I tensorflow/core/common_runtime/gpu/gpu_device.cc:1280] 0:   N \n",
      "2024-01-11 17:36:45.584987: E tensorflow/stream_executor/cuda/cuda_gpu_executor.cc:927] could not open file to read NUMA node: /sys/bus/pci/devices/0000:01:00.0/numa_node\n",
      "Your kernel may have been built without NUMA support.\n",
      "2024-01-11 17:36:45.584998: I tensorflow/core/common_runtime/gpu/gpu_device.cc:1489] Could not identify NUMA node of platform GPU id 0, defaulting to 0.  Your kernel may not have been built with NUMA support.\n",
      "2024-01-11 17:36:45.585038: E tensorflow/stream_executor/cuda/cuda_gpu_executor.cc:927] could not open file to read NUMA node: /sys/bus/pci/devices/0000:01:00.0/numa_node\n",
      "Your kernel may have been built without NUMA support.\n",
      "2024-01-11 17:36:45.585061: E tensorflow/stream_executor/cuda/cuda_gpu_executor.cc:927] could not open file to read NUMA node: /sys/bus/pci/devices/0000:01:00.0/numa_node\n",
      "Your kernel may have been built without NUMA support.\n",
      "2024-01-11 17:36:45.585089: I tensorflow/core/common_runtime/gpu/gpu_device.cc:1406] Created TensorFlow device (/job:localhost/replica:0/task:0/device:GPU:0 with 14017 MB memory) -> physical GPU (device: 0, name: NVIDIA GeForce RTX 4080, pci bus id: 0000:01:00.0, compute capability: 8.9)\n",
      "2024-01-11 17:36:46.163235: I tensorflow/compiler/mlir/mlir_graph_optimization_pass.cc:116] None of the MLIR optimization passes are enabled (registered 2)\n",
      "2024-01-11 17:36:46.163471: I tensorflow/core/platform/profile_utils/cpu_utils.cc:112] CPU Frequency: 4491455000 Hz\n",
      "2024-01-11 17:36:46.198493: I tensorflow/stream_executor/platform/default/dso_loader.cc:49] Successfully opened dynamic library libcublas.so.10\n"
     ]
    }
   ],
   "source": [
    "path_to_logs = Path(Path.cwd() / 'logs')\n",
    "log_dir = path_to_logs / 'fit' / 'ANN_512x5_400e'\n",
    "model_file_path = log_dir / 'my_model.h5'\n",
    "\n",
    "# Load the model\n",
    "model = load_model(model_file_path, custom_objects={'r_squared': r_squared})\n",
    "# Load the saved scaler\n",
    "X_scaler = load(log_dir / 'X_scaler.joblib')\n",
    "X_new_scaled = X_scaler.transform([true_flux])\n",
    "\n",
    "# Make predictions\n",
    "prediction = model.predict(X_new_scaled)\n",
    "# Load the scalers\n",
    "loaded_scalers = {}\n",
    "parameters = []\n",
    "for i in range(prediction.shape[1]):\n",
    "    loaded_scalers[i] = load(log_dir / f'scaler_{i}.joblib')\n",
    "    parameters.append(loaded_scalers[i].inverse_transform(prediction[0][i].reshape(-1,1)))\n",
    "# Extracting the single float value from each sub-array\n",
    "par = np.array([arr[0, 0] for arr in parameters]).astype(float)\n",
    "log_index = [0, 2, 9, 10, 11, 12]\n",
    "for i in log_index:\n",
    "    par[i] =  pow(10, par[i])"
   ]
  },
  {
   "cell_type": "code",
   "execution_count": 5,
   "metadata": {},
   "outputs": [
    {
     "name": "stdout",
     "output_type": "stream",
     "text": [
      "\n",
      "========================================================================\n",
      "Model TBabs<1>(rdblur<2>*rfxconv<3>*comptb<4> + diskbb<5> + comptb<6>) Source No.: 1   Active/Off\n",
      "Model Model Component  Parameter  Unit     Value\n",
      " par  comp\n",
      "   1    1   TBabs      nH         10^22    1.00000      +/-  0.0          \n",
      "   2    2   rdblur     Betor10             -2.00000     frozen\n",
      "   3    2   rdblur     Rin_M               10.0000      frozen\n",
      "   4    2   rdblur     Rout_M              1000.00      frozen\n",
      "   5    2   rdblur     Incl       deg      30.0000      +/-  0.0          \n",
      "   6    3   rfxconv    rel_refl            -1.00000     +/-  0.0          \n",
      "   7    3   rfxconv    redshift            0.0          frozen\n",
      "   8    3   rfxconv    Fe_abund            1.00000      frozen\n",
      "   9    3   rfxconv    cosIncl             0.500000     frozen\n",
      "  10    3   rfxconv    log_xi              1.00000      +/-  0.0          \n",
      "  11    4   comptb     kTs        keV      1.00000      +/-  0.0          \n",
      "  12    4   comptb     gamma               3.00000      frozen\n",
      "  13    4   comptb     alpha               2.00000      +/-  0.0          \n",
      "  14    4   comptb     delta               20.0000      +/-  0.0          \n",
      "  15    4   comptb     kTe        keV      5.00000      +/-  0.0          \n",
      "  16    4   comptb     log_A               0.0          +/-  0.0          \n",
      "  17    4   comptb     norm                1.00000      +/-  0.0          \n",
      "  18    5   diskbb     Tin        keV      1.00000      +/-  0.0          \n",
      "  19    5   diskbb     norm                1.00000      +/-  0.0          \n",
      "  20    6   comptb     kTs        keV      1.00000      +/-  0.0          \n",
      "  21    6   comptb     gamma               3.00000      frozen\n",
      "  22    6   comptb     alpha               2.00000      +/-  0.0          \n",
      "  23    6   comptb     delta               20.0000      +/-  0.0          \n",
      "  24    6   comptb     kTe        keV      5.00000      +/-  0.0          \n",
      "  25    6   comptb     log_A               0.0          +/-  0.0          \n",
      "  26    6   comptb     norm                1.00000      +/-  0.0          \n",
      "________________________________________________________________________\n",
      "\n",
      "RFXCONV: A 2-10 keV slope of -0.430219 is outside the tabulated range - setting to 1.4\n",
      "\n",
      "\n",
      "========================================================================\n",
      "Model TBabs<1>(rdblur<2>*rfxconv<3>*comptb<4> + diskbb<5> + comptb<6>) Source No.: 1   Active/Off\n",
      "Model Model Component  Parameter  Unit     Value\n",
      " par  comp\n",
      "   1    1   TBabs      nH         10^22    0.260174     +/-  0.0          \n",
      "   2    2   rdblur     Betor10             -5.30125     frozen\n",
      "   3    2   rdblur     Rin_M               67.6742      frozen\n",
      "   4    2   rdblur     Rout_M              1000.00      frozen\n",
      "   5    2   rdblur     Incl       deg      42.6547      +/-  0.0          \n",
      "   6    3   rfxconv    rel_refl            -0.526941    +/-  0.0          \n",
      "   7    3   rfxconv    redshift            0.0          frozen\n",
      "   8    3   rfxconv    Fe_abund            1.68285      frozen\n",
      "   9    3   rfxconv    cosIncl             0.500000     frozen\n",
      "  10    3   rfxconv    log_xi              2.41325      +/-  0.0          \n",
      "  11    4   comptb     kTs        keV      4.79155      +/-  0.0          \n",
      "  12    4   comptb     gamma               3.00000      frozen\n",
      "  13    4   comptb     alpha               1.41670      +/-  0.0          \n",
      "  14    4   comptb     delta               20.0000      +/-  0.0          \n",
      "  15    4   comptb     kTe        keV      59.8569      +/-  0.0          \n",
      "  16    4   comptb     log_A               0.0          +/-  0.0          \n",
      "  17    4   comptb     norm                7.56548E+08  +/-  0.0          \n",
      "  18    5   diskbb     Tin        keV      0.811792     +/-  0.0          \n",
      "  19    5   diskbb     norm                7.05237E+08  +/-  0.0          \n",
      "  20    6   comptb     kTs        keV      1.00000      +/-  0.0          \n",
      "  21    6   comptb     gamma               3.00000      frozen\n",
      "  22    6   comptb     alpha               2.00000      +/-  0.0          \n",
      "  23    6   comptb     delta               20.0000      +/-  0.0          \n",
      "  24    6   comptb     kTe        keV      5.00000      +/-  0.0          \n",
      "  25    6   comptb     log_A               0.0          +/-  0.0          \n",
      "  26    6   comptb     norm                1.00000      +/-  0.0          \n",
      "________________________________________________________________________\n",
      "\n",
      "  parameter 4 is already frozen.\n",
      "  parameter 12 is already frozen.\n",
      "RFXCONV: A 2-10 keV slope of -0.430219 is outside the tabulated range - setting to 1.4\n",
      "\n",
      "RFXCONV: A 2-10 keV slope of -0.530494 is outside the tabulated range - setting to 1.4\n",
      "\n",
      "RFXCONV: A 2-10 keV slope of -0.530494 is outside the tabulated range - setting to 1.4\n",
      "\n",
      "RFXCONV: A 2-10 keV slope of -0.530494 is outside the tabulated range - setting to 1.4\n",
      "\n",
      "RFXCONV: A 2-10 keV slope of -0.530494 is outside the tabulated range - setting to 1.4\n",
      "\n",
      "RFXCONV: A 2-10 keV slope of -0.530494 is outside the tabulated range - setting to 1.4\n",
      "\n",
      "RFXCONV: A 2-10 keV slope of -0.530494 is outside the tabulated range - setting to 1.4\n",
      "\n",
      "RFXCONV: A 2-10 keV slope of -0.530494 is outside the tabulated range - setting to 1.4\n",
      "\n",
      "RFXCONV: A 2-10 keV slope of -0.530494 is outside the tabulated range - setting to 1.4\n",
      "\n",
      "RFXCONV: A 2-10 keV slope of -0.530494 is outside the tabulated range - setting to 1.4\n",
      "\n",
      "\n",
      "User entered plot commands:\n",
      " Plot settings:\n",
      "   Showing of individual additive components is OFF.\n",
      "   Showing of background spectra is OFF.\n",
      "   Effective area normalization is OFF.\n",
      "   Current unit settings:\n",
      "      Energy     = keV\n",
      "      Wavelength = angstrom, with Y-Axis displayed per Hz\n",
      "   X-Axis data display mode: Energy\n",
      "   Spectra plots will be shifted to source frame by redshift value z: 0\n",
      "   Device: /null\n",
      "   Plotting of line IDs is OFF.\n",
      "   Splashpage is ON.\n",
      "   xlog for data plots is ON.\n",
      "   ylog for data plots is OFF.\n",
      "\n",
      "   Default plot rebin settings for all plot groups:\n",
      "   Min. Signif.   Max. # Bins   Error Type\n",
      "        0.00000             1         quad\n",
      "No plot commands have been entered.\n",
      "RFXCONV: A 2-10 keV slope of -0.530494 is outside the tabulated range - setting to 1.4\n",
      "\n"
     ]
    },
    {
     "data": {
      "text/plain": [
       "Text(0.5, 0, 'Energy (KeV)')"
      ]
     },
     "execution_count": 5,
     "metadata": {},
     "output_type": "execute_result"
    },
    {
     "data": {
      "image/png": "[encoded data removed]",
      "text/plain": [
       "<Figure size 640x480 with 1 Axes>"
      ]
     },
     "metadata": {},
     "output_type": "display_data"
    }
   ],
   "source": [
    "# Clear existing XSPEC models and data\n",
    "AllModels.clear()\n",
    "AllData.clear()\n",
    "AllData.dummyrsp(0.7 ,20.)\n",
    "\n",
    "# Create the model\n",
    "model_name = \"TBabs*(rdblur*rfxconv*comptb + diskbb + comptb)\"\n",
    "# Initialize the model with the scaled parameters\n",
    "#m = Model(model_name)\n",
    "m = Model(model_name, setPars={int(relevant_par[j]):par[j] for j in range(len(relevant_par))})\n",
    "\n",
    "# Changing default frozen parameters to unfrozen\n",
    "m.rdblur.Betor10.frozen = False\n",
    "m.rdblur.Rout_M.frozen = True\n",
    "m.rdblur.Rin_M.frozen = False\n",
    "m.rfxconv.Fe_abund.frozen = False\n",
    "m.comptb.gamma.frozen = True\n",
    "m.comptb.delta.frozen = True\n",
    "m.comptb.log_A.frozen = True\n",
    "\n",
    "m.rdblur.Rout_M.values = 1000\n",
    "m.comptb.log_A.values = 8\n",
    "\n",
    "'''\n",
    "#m(1).values = par[0]\n",
    "m(2).values = 0#par[1]\n",
    "m(3).values = 20#par[2]\n",
    "m(5).values = 60#par[3]\n",
    "#m(6).values = par[4]\n",
    "#m(8).values = par[5]\n",
    "#m(10).values = par[6]\n",
    "#m(11).values = 5#par[7]\n",
    "#m(13).values = par[8]\n",
    "m(15).values = 10#par[9]\n",
    "#m(17).values = par[10]\n",
    "#m(18).values = par[11]\n",
    "#m(19).values = par[12]\n",
    "'''\n",
    "m.rfxconv.cosIncl.link = \"COSD(5)\"\n",
    "# Linking comptb_6 (refletion) parameters to comptb (comptb)\n",
    "start = 20  # Number of the first parameter of comptb_6\n",
    "for i in range(start, start + len(m.comptb_6.parameterNames)):\n",
    "    m(i).link = m(i-9) # 9 is the separation between comptb and comptb_6\n",
    "\n",
    "# Add the model to the spectral analysis system\n",
    "AllModels.setPars(m)\n",
    "\n",
    "# Set up the energy range of interest for plotting\n",
    "Plot.device = \"/null\"\n",
    "Plot.xAxis = \"keV\"\n",
    "Plot.show()\n",
    "Plot('model')\n",
    "m_energy = Plot.x()\n",
    "m_flux = Plot.model()\n",
    "\n",
    "plt.plot(energy, true_flux, label=\"True\")\n",
    "plt.plot(m_energy, m_flux, label=\"Model\")\n",
    "plt.xscale(\"log\")\n",
    "plt.ylabel(\"Flux(1 / keV cm^-2 s)\")\n",
    "plt.xlabel(\"Energy (KeV)\")"
   ]
  },
  {
   "cell_type": "code",
   "execution_count": 6,
   "metadata": {},
   "outputs": [
    {
     "data": {
      "text/plain": [
       "array([ 2.60173713e-01, -5.30124807e+00,  6.76742164e+01,  4.26546631e+01,\n",
       "       -5.26941240e-01,  1.68284917e+00,  2.41324806e+00,  4.79154968e+00,\n",
       "        1.41670465e+00,  5.98568906e+01,  7.56548251e+08,  8.11791814e-01,\n",
       "        7.05237287e+08])"
      ]
     },
     "execution_count": 6,
     "metadata": {},
     "output_type": "execute_result"
    }
   ],
   "source": [
    "par"
   ]
  },
  {
   "cell_type": "code",
   "execution_count": 7,
   "metadata": {},
   "outputs": [
    {
     "data": {
      "text/plain": [
       "[705237287.080306, 7052372.870803061, 0.0, 0.0, 1e+20, 1e+24]"
      ]
     },
     "execution_count": 7,
     "metadata": {},
     "output_type": "execute_result"
    }
   ],
   "source": [
    "m(19).values"
   ]
  },
  {
   "cell_type": "code",
   "execution_count": 8,
   "metadata": {},
   "outputs": [
    {
     "name": "stdout",
     "output_type": "stream",
     "text": [
      "\n",
      "========================================================================\n",
      "Model TBabs<1>(rdblur<2>*rfxconv<3>*comptb<4> + diskbb<5> + comptb<6>) Source No.: 1   Active/Off\n",
      "Model Model Component  Parameter  Unit     Value\n",
      " par  comp\n",
      "   1    1   TBabs      nH         10^22    0.260174     +/-  0.0          \n",
      "   2    2   rdblur     Betor10             -5.30125     +/-  0.0          \n",
      "   3    2   rdblur     Rin_M               67.6742      +/-  0.0          \n",
      "   4    2   rdblur     Rout_M              1000.00      frozen\n",
      "   5    2   rdblur     Incl       deg      42.6547      +/-  0.0          \n",
      "   6    3   rfxconv    rel_refl            -0.526941    +/-  0.0          \n",
      "   7    3   rfxconv    redshift            0.0          frozen\n",
      "   8    3   rfxconv    Fe_abund            1.68285      +/-  0.0          \n",
      "   9    3   rfxconv    cosIncl             0.735451     = COSD(p5)\n",
      "  10    3   rfxconv    log_xi              2.41325      +/-  0.0          \n",
      "  11    4   comptb     kTs        keV      4.79155      +/-  0.0          \n",
      "  12    4   comptb     gamma               3.00000      frozen\n",
      "  13    4   comptb     alpha               1.41670      +/-  0.0          \n",
      "  14    4   comptb     delta               20.0000      frozen\n",
      "  15    4   comptb     kTe        keV      59.8569      +/-  0.0          \n",
      "  16    4   comptb     log_A               8.00000      frozen\n",
      "  17    4   comptb     norm                7.56548E+08  +/-  0.0          \n",
      "  18    5   diskbb     Tin        keV      0.811792     +/-  0.0          \n",
      "  19    5   diskbb     norm                7.05237E+08  +/-  0.0          \n",
      "  20    6   comptb     kTs        keV      4.79155      = p11\n",
      "  21    6   comptb     gamma               3.00000      = p12\n",
      "  22    6   comptb     alpha               1.41670      = p13\n",
      "  23    6   comptb     delta               20.0000      = p14\n",
      "  24    6   comptb     kTe        keV      59.8569      = p15\n",
      "  25    6   comptb     log_A               8.00000      = p16\n",
      "  26    6   comptb     norm                7.56548E+08  = p17\n",
      "________________________________________________________________________\n",
      "\n"
     ]
    }
   ],
   "source": [
    "m.show()"
   ]
  },
  {
   "cell_type": "code",
   "execution_count": 9,
   "metadata": {},
   "outputs": [
    {
     "name": "stdout",
     "output_type": "stream",
     "text": [
      "culo\n",
      "no\n",
      "culo\n",
      "no\n",
      "no\n",
      "no\n",
      "no\n",
      "no\n",
      "no\n"
     ]
    }
   ],
   "source": [
    "for i in range(1, 10):\n",
    "    if m(i).name == 'nH' or m(i).name == 'Rin_M':\n",
    "        print(\"culo\")\n",
    "    else:\n",
    "        print(\"no\")"
   ]
  },
  {
   "cell_type": "code",
   "execution_count": 10,
   "metadata": {},
   "outputs": [
    {
     "name": "stdout",
     "output_type": "stream",
     "text": [
      "culo\n",
      "no\n",
      "culo\n",
      "no\n",
      "no\n",
      "no\n",
      "no\n",
      "no\n",
      "no\n",
      "no\n",
      "no\n",
      "no\n",
      "no\n",
      "no\n",
      "culo\n",
      "no\n",
      "culo\n",
      "culo\n",
      "culo\n"
     ]
    }
   ],
   "source": [
    "loga = ['nH', 'Rin_M', 'kTe', 'norm', 'Tin']\n",
    "for i in range(1, 20):\n",
    "    if m(i).name in loga:\n",
    "        print(\"culo\")\n",
    "    else:\n",
    "        print(\"no\")"
   ]
  },
  {
   "cell_type": "code",
   "execution_count": 11,
   "metadata": {},
   "outputs": [
    {
     "name": "stdout",
     "output_type": "stream",
     "text": [
      "RFXCONV: A 2-10 keV slope of -0.530494 is outside the tabulated range - setting to 1.4\n",
      "\n"
     ]
    }
   ],
   "source": [
    "m(i).values = 2"
   ]
  },
  {
   "cell_type": "code",
   "execution_count": 12,
   "metadata": {},
   "outputs": [
    {
     "name": "stdout",
     "output_type": "stream",
     "text": [
      "RFXCONV: A 2-10 keV slope of -0.530494 is outside the tabulated range - setting to 1.4\n",
      "\n"
     ]
    }
   ],
   "source": [
    "m(i).values = 10**m(i).values[0]"
   ]
  },
  {
   "cell_type": "code",
   "execution_count": 13,
   "metadata": {},
   "outputs": [
    {
     "data": {
      "text/plain": [
       "[100.0, 1.0, 0.0, 0.0, 1e+20, 1e+24]"
      ]
     },
     "execution_count": 13,
     "metadata": {},
     "output_type": "execute_result"
    }
   ],
   "source": [
    "m(i).values"
   ]
  },
  {
   "cell_type": "code",
   "execution_count": null,
   "metadata": {},
   "outputs": [],
   "source": []
  }
 ],
 "metadata": {
  "kernelspec": {
   "display_name": "tensorflow",
   "language": "python",
   "name": "python3"
  },
  "language_info": {
   "codemirror_mode": {
    "name": "ipython",
    "version": 3
   },
   "file_extension": ".py",
   "mimetype": "text/x-python",
   "name": "python",
   "nbconvert_exporter": "python",
   "pygments_lexer": "ipython3",
   "version": "3.9.18"
  }
 },
 "nbformat": 4,
 "nbformat_minor": 2
}
