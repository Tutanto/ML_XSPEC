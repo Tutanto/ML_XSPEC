{
 "cells": [
  {
   "cell_type": "code",
   "execution_count": 1,
   "metadata": {},
   "outputs": [
    {
     "name": "stderr",
     "output_type": "stream",
     "text": [
      "2024-01-17 09:52:09.763038: I tensorflow/core/util/port.cc:113] oneDNN custom operations are on. You may see slightly different numerical results due to floating-point round-off errors from different computation orders. To turn them off, set the environment variable `TF_ENABLE_ONEDNN_OPTS=0`.\n",
      "2024-01-17 09:52:09.988851: E external/local_xla/xla/stream_executor/cuda/cuda_dnn.cc:9261] Unable to register cuDNN factory: Attempting to register factory for plugin cuDNN when one has already been registered\n",
      "2024-01-17 09:52:09.988890: E external/local_xla/xla/stream_executor/cuda/cuda_fft.cc:607] Unable to register cuFFT factory: Attempting to register factory for plugin cuFFT when one has already been registered\n",
      "2024-01-17 09:52:10.029698: E external/local_xla/xla/stream_executor/cuda/cuda_blas.cc:1515] Unable to register cuBLAS factory: Attempting to register factory for plugin cuBLAS when one has already been registered\n",
      "2024-01-17 09:52:10.110511: I tensorflow/core/platform/cpu_feature_guard.cc:182] This TensorFlow binary is optimized to use available CPU instructions in performance-critical operations.\n",
      "To enable the following instructions: AVX2 AVX512F AVX512_VNNI AVX512_BF16 FMA, in other operations, rebuild TensorFlow with the appropriate compiler flags.\n",
      "2024-01-17 09:52:10.792857: W tensorflow/compiler/tf2tensorrt/utils/py_utils.cc:38] TF-TRT Warning: Could not find TensorRT\n"
     ]
    }
   ],
   "source": [
    "import numpy as np\n",
    "from joblib import load\n",
    "from pathlib import Path\n",
    "from xspec import AllModels, AllData, Model, Plot\n",
    "from tensorflow.keras.models import load_model\n",
    "\n",
    "import matplotlib.pyplot as plt\n",
    "\n",
    "from modules.network import r_squared"
   ]
  },
  {
   "cell_type": "code",
   "execution_count": 2,
   "metadata": {},
   "outputs": [
    {
     "name": "stdout",
     "output_type": "stream",
     "text": [
      "tbvabs Version 2.3\n",
      "Cosmic absorption with grains and H2, modified from\n",
      "Wilms, Allen, & McCray, 2000, ApJ 542, 914-924\n",
      "Questions: Joern Wilms\n",
      "joern.wilms@sternwarte.uni-erlangen.de\n",
      "joern.wilms@fau.de\n",
      "\n",
      "http://pulsar.sternwarte.uni-erlangen.de/wilms/research/tbabs/\n",
      "\n",
      "PLEASE NOTICE:\n",
      "To get the model described by the above paper\n",
      "you will also have to set the abundances:\n",
      "   abund wilm\n",
      "\n",
      "Note that this routine ignores the current cross section setting\n",
      "as it always HAS to use the Verner cross sections as a baseline.\n",
      "Compton reflection from ionized medium.\n",
      "If you use results from this model in a paper\n",
      "please refer to Chris Done\n",
      "\n",
      "========================================================================\n",
      "Model TBabs<1>(rdblur<2>*rfxconv<3>*comptb<4> + diskbb<5> + comptb<6>) Source No.: 1   Active/Off\n",
      "Model Model Component  Parameter  Unit     Value\n",
      " par  comp\n",
      "   1    1   TBabs      nH         10^22    1.00000      +/-  0.0          \n",
      "   2    2   rdblur     Betor10             -2.00000     frozen\n",
      "   3    2   rdblur     Rin_M               10.0000      frozen\n",
      "   4    2   rdblur     Rout_M              1000.00      frozen\n",
      "   5    2   rdblur     Incl       deg      30.0000      +/-  0.0          \n",
      "   6    3   rfxconv    rel_refl            -1.00000     +/-  0.0          \n",
      "   7    3   rfxconv    redshift            0.0          frozen\n",
      "   8    3   rfxconv    Fe_abund            1.00000      frozen\n",
      "   9    3   rfxconv    cosIncl             0.500000     frozen\n",
      "  10    3   rfxconv    log_xi              1.00000      +/-  0.0          \n",
      "  11    4   comptb     kTs        keV      1.00000      +/-  0.0          \n",
      "  12    4   comptb     gamma               3.00000      frozen\n",
      "  13    4   comptb     alpha               2.00000      +/-  0.0          \n",
      "  14    4   comptb     delta               20.0000      +/-  0.0          \n",
      "  15    4   comptb     kTe        keV      5.00000      +/-  0.0          \n",
      "  16    4   comptb     log_A               0.0          +/-  0.0          \n",
      "  17    4   comptb     norm                1.00000      +/-  0.0          \n",
      "  18    5   diskbb     Tin        keV      1.00000      +/-  0.0          \n",
      "  19    5   diskbb     norm                1.00000      +/-  0.0          \n",
      "  20    6   comptb     kTs        keV      1.00000      +/-  0.0          \n",
      "  21    6   comptb     gamma               3.00000      frozen\n",
      "  22    6   comptb     alpha               2.00000      +/-  0.0          \n",
      "  23    6   comptb     delta               20.0000      +/-  0.0          \n",
      "  24    6   comptb     kTe        keV      5.00000      +/-  0.0          \n",
      "  25    6   comptb     log_A               0.0          +/-  0.0          \n",
      "  26    6   comptb     norm                1.00000      +/-  0.0          \n",
      "________________________________________________________________________\n",
      "\n",
      "  parameter 4 is already frozen.\n",
      "  parameter 12 is already frozen.\n",
      "\n",
      "User entered plot commands:\n",
      " Plot settings:\n",
      "   Showing of individual additive components is OFF.\n",
      "   Showing of background spectra is OFF.\n",
      "   Effective area normalization is OFF.\n",
      "   Current unit settings:\n",
      "      Energy     = keV\n",
      "      Wavelength = angstrom, with Y-Axis displayed per Hz\n",
      "   X-Axis data display mode: Energy\n",
      "   Spectra plots will be shifted to source frame by redshift value z: 0\n",
      "   Device: /null\n",
      "   Plotting of line IDs is OFF.\n",
      "   Splashpage is ON.\n",
      "   xlog for data plots is ON.\n",
      "   ylog for data plots is OFF.\n",
      "\n",
      "   Default plot rebin settings for all plot groups:\n",
      "   Min. Signif.   Max. # Bins   Error Type\n",
      "        0.00000             1         quad\n",
      "No plot commands have been entered.\n"
     ]
    },
    {
     "data": {
      "text/plain": [
       "Text(0.5, 0, 'Energy (KeV)')"
      ]
     },
     "execution_count": 2,
     "metadata": {},
     "output_type": "execute_result"
    },
    {
     "data": {
      "image/png": "[encoded data removed]",
      "text/plain": [
       "<Figure size 640x480 with 1 Axes>"
      ]
     },
     "metadata": {},
     "output_type": "display_data"
    }
   ],
   "source": [
    "# Clear existing XSPEC models and data\n",
    "AllModels.clear()\n",
    "AllData.clear()\n",
    "AllData.dummyrsp(0.7 ,20.)\n",
    "\n",
    "# Create the model\n",
    "model_name = \"TBabs*(rdblur*rfxconv*comptb + diskbb + comptb)\"\n",
    "true_model = Model(model_name)\n",
    "\n",
    "# Changing default frozen parameters to unfrozen\n",
    "true_model.rdblur.Betor10.frozen = False\n",
    "true_model.rdblur.Rout_M.frozen = True\n",
    "true_model.rdblur.Rin_M.frozen = False\n",
    "true_model.rfxconv.Fe_abund.frozen = False\n",
    "true_model.comptb.gamma.frozen = True\n",
    "true_model.comptb.delta.frozen = True\n",
    "true_model.comptb.log_A.frozen = True\n",
    "\n",
    "true_model.rdblur.Rout_M.values = 1000\n",
    "true_model.comptb.log_A.values = 8\n",
    "\n",
    "# Linking the parameters\n",
    "true_model.rfxconv.cosIncl.link = \"COSD(5)\"\n",
    "\n",
    "start = 20  # Number of the first parameter of comptb_6\n",
    "for i in range(start, start + len(true_model.comptb_6.parameterNames)):\n",
    "    true_model(i).link = true_model(i-9) # 9 is the separation between comptb and comptb_6\n",
    "\n",
    "# Collect the relevant parameter (the ones not frozen or linked)\n",
    "relevant_par = []\n",
    "for n_par in range(1, true_model.nParameters + 1):\n",
    "    if not true_model(n_par).frozen and not true_model(n_par).link:\n",
    "        relevant_par.append(n_par)\n",
    "\n",
    "\n",
    "# Set up the energy range of interest for plotting\n",
    "Plot.device = \"/null\"\n",
    "Plot.xAxis = \"keV\"\n",
    "Plot.show()\n",
    "Plot('model')\n",
    "energy = Plot.x()\n",
    "true_flux = Plot.model()\n",
    "\n",
    "plt.plot(energy, true_flux)\n",
    "plt.xscale(\"log\")\n",
    "plt.ylabel(\"Flux(1 / keV cm^-2 s)\")\n",
    "plt.xlabel(\"Energy (KeV)\")\n"
   ]
  },
  {
   "cell_type": "code",
   "execution_count": 3,
   "metadata": {},
   "outputs": [
    {
     "name": "stdout",
     "output_type": "stream",
     "text": [
      "[1.0, 0.01, 0.0, 0.0, 100000.0, 1000000.0]\n",
      "[-2.0, 0.02, -10.0, -10.0, 20.0, 20.0]\n",
      "[10.0, 0.1, 6.0, 6.0, 1000.0, 10000.0]\n",
      "[30.0, 0.3, 0.0, 0.0, 90.0, 90.0]\n",
      "[-1.0, 0.01, -1.0, -1.0, 1000000.0, 1000000.0]\n",
      "[1.0, 0.01, 0.5, 0.5, 3.0, 3.0]\n",
      "[1.0, 0.01, 1.0, 1.0, 6.0, 6.0]\n",
      "[1.0, 0.01, 0.1, 0.1, 10.0, 10.0]\n",
      "[2.0, 0.02, 0.0, 0.0, 400.0, 400.0]\n",
      "[5.0, 0.05, 0.2, 0.2, 2000.0, 2000.0]\n",
      "[1.0, 0.01, 0.0, 0.0, 1e+20, 1e+24]\n",
      "[1.0, 0.01, 0.0, 0.0, 1000.0, 1000.0]\n",
      "[1.0, 0.01, 0.0, 0.0, 1e+20, 1e+24]\n"
     ]
    }
   ],
   "source": [
    "for n_par in range(1, true_model.nParameters + 1):\n",
    "    if not true_model(n_par).frozen and not true_model(n_par).link:\n",
    "        print(true_model(n_par).values)\n"
   ]
  },
  {
   "cell_type": "code",
   "execution_count": 4,
   "metadata": {},
   "outputs": [
    {
     "name": "stderr",
     "output_type": "stream",
     "text": [
      "2024-01-17 09:52:13.393964: I external/local_xla/xla/stream_executor/cuda/cuda_executor.cc:887] could not open file to read NUMA node: /sys/bus/pci/devices/0000:01:00.0/numa_node\n",
      "Your kernel may have been built without NUMA support.\n",
      "2024-01-17 09:52:13.520129: I external/local_xla/xla/stream_executor/cuda/cuda_executor.cc:887] could not open file to read NUMA node: /sys/bus/pci/devices/0000:01:00.0/numa_node\n",
      "Your kernel may have been built without NUMA support.\n",
      "2024-01-17 09:52:13.520174: I external/local_xla/xla/stream_executor/cuda/cuda_executor.cc:887] could not open file to read NUMA node: /sys/bus/pci/devices/0000:01:00.0/numa_node\n",
      "Your kernel may have been built without NUMA support.\n",
      "2024-01-17 09:52:13.521912: I external/local_xla/xla/stream_executor/cuda/cuda_executor.cc:887] could not open file to read NUMA node: /sys/bus/pci/devices/0000:01:00.0/numa_node\n",
      "Your kernel may have been built without NUMA support.\n",
      "2024-01-17 09:52:13.521951: I external/local_xla/xla/stream_executor/cuda/cuda_executor.cc:887] could not open file to read NUMA node: /sys/bus/pci/devices/0000:01:00.0/numa_node\n",
      "Your kernel may have been built without NUMA support.\n",
      "2024-01-17 09:52:13.521969: I external/local_xla/xla/stream_executor/cuda/cuda_executor.cc:887] could not open file to read NUMA node: /sys/bus/pci/devices/0000:01:00.0/numa_node\n",
      "Your kernel may have been built without NUMA support.\n",
      "2024-01-17 09:52:13.640727: I external/local_xla/xla/stream_executor/cuda/cuda_executor.cc:887] could not open file to read NUMA node: /sys/bus/pci/devices/0000:01:00.0/numa_node\n",
      "Your kernel may have been built without NUMA support.\n",
      "2024-01-17 09:52:13.640781: I external/local_xla/xla/stream_executor/cuda/cuda_executor.cc:887] could not open file to read NUMA node: /sys/bus/pci/devices/0000:01:00.0/numa_node\n",
      "Your kernel may have been built without NUMA support.\n",
      "2024-01-17 09:52:13.640787: I tensorflow/core/common_runtime/gpu/gpu_device.cc:2022] Could not identify NUMA node of platform GPU id 0, defaulting to 0.  Your kernel may not have been built with NUMA support.\n",
      "2024-01-17 09:52:13.640816: I external/local_xla/xla/stream_executor/cuda/cuda_executor.cc:887] could not open file to read NUMA node: /sys/bus/pci/devices/0000:01:00.0/numa_node\n",
      "Your kernel may have been built without NUMA support.\n",
      "2024-01-17 09:52:13.640830: I tensorflow/core/common_runtime/gpu/gpu_device.cc:1929] Created device /job:localhost/replica:0/task:0/device:GPU:0 with 13526 MB memory:  -> device: 0, name: NVIDIA GeForce RTX 4080, pci bus id: 0000:01:00.0, compute capability: 8.9\n"
     ]
    },
    {
     "name": "stdout",
     "output_type": "stream",
     "text": [
      "1/1 [==============================] - 0s 240ms/step\n"
     ]
    },
    {
     "name": "stderr",
     "output_type": "stream",
     "text": [
      "2024-01-17 09:52:14.650941: W external/local_xla/xla/stream_executor/gpu/asm_compiler.cc:225] Falling back to the CUDA driver for PTX compilation; ptxas does not support CC 8.9\n",
      "2024-01-17 09:52:14.650973: W external/local_xla/xla/stream_executor/gpu/asm_compiler.cc:228] Used ptxas at ptxas\n",
      "2024-01-17 09:52:14.651011: W tensorflow/compiler/mlir/tools/kernel_gen/transforms/gpu_kernel_to_blob_pass.cc:191] Failed to compile generated PTX with ptxas. Falling back to compilation by driver.\n",
      "2024-01-17 09:52:14.690117: W tensorflow/compiler/mlir/tools/kernel_gen/transforms/gpu_kernel_to_blob_pass.cc:191] Failed to compile generated PTX with ptxas. Falling back to compilation by driver.\n"
     ]
    }
   ],
   "source": [
    "path_to_logs = Path(Path.cwd() / 'logs')\n",
    "log_dir = path_to_logs / 'fit' / 'ANN_512x5_150e'\n",
    "model_file_path = log_dir / 'my_model.h5'\n",
    "\n",
    "# Load the model\n",
    "model = load_model(model_file_path, custom_objects={'r_squared': r_squared})\n",
    "# Load the saved scaler\n",
    "X_scaler = load(log_dir / 'X_scaler.joblib')\n",
    "X_new_scaled = X_scaler.transform([true_flux])\n",
    "\n",
    "# Make predictions\n",
    "prediction = model.predict(X_new_scaled)\n",
    "# Load the scalers\n",
    "loaded_scalers = {}\n",
    "parameters = []\n",
    "for i in range(prediction.shape[1]):\n",
    "    loaded_scalers[i] = load(log_dir / f'scaler_{i}.joblib')\n",
    "    parameters.append(loaded_scalers[i].inverse_transform(prediction[0][i].reshape(-1,1)))\n",
    "# Extracting the single float value from each sub-array\n",
    "par = np.array([arr[0, 0] for arr in parameters]).astype(float)\n",
    "log_index = [0, 2, 7, 9, 10, 11, 12]\n",
    "for i in log_index:\n",
    "    par[i] =  pow(10, par[i])"
   ]
  },
  {
   "cell_type": "code",
   "execution_count": 5,
   "metadata": {},
   "outputs": [
    {
     "name": "stdout",
     "output_type": "stream",
     "text": [
      "\n",
      "========================================================================\n",
      "Model TBabs<1>(rdblur<2>*rfxconv<3>*comptb<4> + diskbb<5> + comptb<6>) Source No.: 1   Active/Off\n",
      "Model Model Component  Parameter  Unit     Value\n",
      " par  comp\n",
      "   1    1   TBabs      nH         10^22    1.00000      +/-  0.0          \n",
      "   2    2   rdblur     Betor10             -2.00000     frozen\n",
      "   3    2   rdblur     Rin_M               10.0000      frozen\n",
      "   4    2   rdblur     Rout_M              1000.00      frozen\n",
      "   5    2   rdblur     Incl       deg      30.0000      +/-  0.0          \n",
      "   6    3   rfxconv    rel_refl            -1.00000     +/-  0.0          \n",
      "   7    3   rfxconv    redshift            0.0          frozen\n",
      "   8    3   rfxconv    Fe_abund            1.00000      frozen\n",
      "   9    3   rfxconv    cosIncl             0.500000     frozen\n",
      "  10    3   rfxconv    log_xi              1.00000      +/-  0.0          \n",
      "  11    4   comptb     kTs        keV      1.00000      +/-  0.0          \n",
      "  12    4   comptb     gamma               3.00000      frozen\n",
      "  13    4   comptb     alpha               2.00000      +/-  0.0          \n",
      "  14    4   comptb     delta               20.0000      +/-  0.0          \n",
      "  15    4   comptb     kTe        keV      5.00000      +/-  0.0          \n",
      "  16    4   comptb     log_A               0.0          +/-  0.0          \n",
      "  17    4   comptb     norm                1.00000      +/-  0.0          \n",
      "  18    5   diskbb     Tin        keV      1.00000      +/-  0.0          \n",
      "  19    5   diskbb     norm                1.00000      +/-  0.0          \n",
      "  20    6   comptb     kTs        keV      1.00000      +/-  0.0          \n",
      "  21    6   comptb     gamma               3.00000      frozen\n",
      "  22    6   comptb     alpha               2.00000      +/-  0.0          \n",
      "  23    6   comptb     delta               20.0000      +/-  0.0          \n",
      "  24    6   comptb     kTe        keV      5.00000      +/-  0.0          \n",
      "  25    6   comptb     log_A               0.0          +/-  0.0          \n",
      "  26    6   comptb     norm                1.00000      +/-  0.0          \n",
      "________________________________________________________________________\n",
      "\n",
      "RFXCONV: A 2-10 keV slope of -0.426886 is outside the tabulated range - setting to 1.4\n",
      "\n",
      "\n",
      "========================================================================\n",
      "Model TBabs<1>(rdblur<2>*rfxconv<3>*comptb<4> + diskbb<5> + comptb<6>) Source No.: 1   Active/Off\n",
      "Model Model Component  Parameter  Unit     Value\n",
      " par  comp\n",
      "   1    1   TBabs      nH         10^22    0.263306     +/-  0.0          \n",
      "   2    2   rdblur     Betor10             -5.30555     frozen\n",
      "   3    2   rdblur     Rin_M               67.1068      frozen\n",
      "   4    2   rdblur     Rout_M              1000.00      frozen\n",
      "   5    2   rdblur     Incl       deg      42.3624      +/-  0.0          \n",
      "   6    3   rfxconv    rel_refl            -0.529696    +/-  0.0          \n",
      "   7    3   rfxconv    redshift            0.0          frozen\n",
      "   8    3   rfxconv    Fe_abund            1.68366      frozen\n",
      "   9    3   rfxconv    cosIncl             0.500000     frozen\n",
      "  10    3   rfxconv    log_xi              2.41374      +/-  0.0          \n",
      "  11    4   comptb     kTs        keV      4.76715      +/-  0.0          \n",
      "  12    4   comptb     gamma               3.00000      frozen\n",
      "  13    4   comptb     alpha               1.40932      +/-  0.0          \n",
      "  14    4   comptb     delta               20.0000      +/-  0.0          \n",
      "  15    4   comptb     kTe        keV      57.9827      +/-  0.0          \n",
      "  16    4   comptb     log_A               0.0          +/-  0.0          \n",
      "  17    4   comptb     norm                7.51668      +/-  0.0          \n",
      "  18    5   diskbb     Tin        keV      0.762967     +/-  0.0          \n",
      "  19    5   diskbb     norm                7.32482      +/-  0.0          \n",
      "  20    6   comptb     kTs        keV      1.00000      +/-  0.0          \n",
      "  21    6   comptb     gamma               3.00000      frozen\n",
      "  22    6   comptb     alpha               2.00000      +/-  0.0          \n",
      "  23    6   comptb     delta               20.0000      +/-  0.0          \n",
      "  24    6   comptb     kTe        keV      5.00000      +/-  0.0          \n",
      "  25    6   comptb     log_A               0.0          +/-  0.0          \n",
      "  26    6   comptb     norm                1.00000      +/-  0.0          \n",
      "________________________________________________________________________\n",
      "\n",
      "  parameter 4 is already frozen.\n",
      "  parameter 12 is already frozen.\n",
      "RFXCONV: A 2-10 keV slope of -0.426886 is outside the tabulated range - setting to 1.4\n",
      "\n",
      "RFXCONV: A 2-10 keV slope of -0.528175 is outside the tabulated range - setting to 1.4\n",
      "\n",
      "RFXCONV: A 2-10 keV slope of -0.528175 is outside the tabulated range - setting to 1.4\n",
      "\n",
      "RFXCONV: A 2-10 keV slope of -0.528175 is outside the tabulated range - setting to 1.4\n",
      "\n",
      "RFXCONV: A 2-10 keV slope of -0.528175 is outside the tabulated range - setting to 1.4\n",
      "\n",
      "RFXCONV: A 2-10 keV slope of -0.528175 is outside the tabulated range - setting to 1.4\n",
      "\n",
      "RFXCONV: A 2-10 keV slope of -0.528175 is outside the tabulated range - setting to 1.4\n",
      "\n",
      "RFXCONV: A 2-10 keV slope of -0.528175 is outside the tabulated range - setting to 1.4\n",
      "\n",
      "RFXCONV: A 2-10 keV slope of -0.528175 is outside the tabulated range - setting to 1.4\n",
      "\n",
      "\n",
      "User entered plot commands:\n",
      "RFXCONV: A 2-10 keV slope of -0.528175 is outside the tabulated range - setting to 1.4\n",
      "\n",
      " Plot settings:\n",
      "   Showing of individual additive components is OFF.\n",
      "   Showing of background spectra is OFF.\n",
      "   Effective area normalization is OFF.\n",
      "   Current unit settings:\n",
      "      Energy     = keV\n",
      "      Wavelength = angstrom, with Y-Axis displayed per Hz\n",
      "   X-Axis data display mode: Energy\n",
      "   Spectra plots will be shifted to source frame by redshift value z: 0\n",
      "   Device: /null\n",
      "   Plotting of line IDs is OFF.\n",
      "   Splashpage is ON.\n",
      "   xlog for data plots is ON.\n",
      "   ylog for data plots is OFF.\n",
      "\n",
      "   Default plot rebin settings for all plot groups:\n",
      "   Min. Signif.   Max. # Bins   Error Type\n",
      "        0.00000             1         quad\n",
      "No plot commands have been entered.\n",
      "RFXCONV: A 2-10 keV slope of -0.528175 is outside the tabulated range - setting to 1.4\n",
      "\n"
     ]
    },
    {
     "data": {
      "text/plain": [
       "Text(0.5, 0, 'Energy (KeV)')"
      ]
     },
     "execution_count": 5,
     "metadata": {},
     "output_type": "execute_result"
    },
    {
     "data": {
      "image/png": "[encoded data removed]",
      "text/plain": [
       "<Figure size 640x480 with 1 Axes>"
      ]
     },
     "metadata": {},
     "output_type": "display_data"
    }
   ],
   "source": [
    "# Clear existing XSPEC models and data\n",
    "AllModels.clear()\n",
    "AllData.clear()\n",
    "AllData.dummyrsp(0.6 ,30.)\n",
    "\n",
    "# Create the model\n",
    "model_name = \"TBabs*(rdblur*rfxconv*comptb + diskbb + comptb)\"\n",
    "# Initialize the model with the scaled parameters\n",
    "#m = Model(model_name)\n",
    "m = Model(model_name, setPars={int(relevant_par[j]):par[j] for j in range(len(relevant_par))})\n",
    "\n",
    "# Changing default frozen parameters to unfrozen\n",
    "m.rdblur.Betor10.frozen = False\n",
    "m.rdblur.Rout_M.frozen = True\n",
    "m.rdblur.Rin_M.frozen = False\n",
    "m.rfxconv.Fe_abund.frozen = False\n",
    "m.comptb.gamma.frozen = True\n",
    "m.comptb.delta.frozen = True\n",
    "m.comptb.log_A.frozen = True\n",
    "\n",
    "m.rdblur.Rout_M.values = 1000\n",
    "m.comptb.log_A.values = 8\n",
    "\n",
    "'''\n",
    "#m(1).values = par[0]\n",
    "m(2).values = 0#par[1]\n",
    "m(3).values = 20#par[2]\n",
    "m(5).values = 60#par[3]\n",
    "#m(6).values = par[4]\n",
    "#m(8).values = par[5]\n",
    "#m(10).values = par[6]\n",
    "#m(11).values = 5#par[7]\n",
    "#m(13).values = par[8]\n",
    "m(15).values = 10#par[9]\n",
    "#m(17).values = par[10]\n",
    "#m(18).values = par[11]\n",
    "#m(19).values = par[12]\n",
    "'''\n",
    "m.rfxconv.cosIncl.link = \"COSD(5)\"\n",
    "# Linking comptb_6 (refletion) parameters to comptb (comptb)\n",
    "start = 20  # Number of the first parameter of comptb_6\n",
    "for i in range(start, start + len(m.comptb_6.parameterNames)):\n",
    "    m(i).link = m(i-9) # 9 is the separation between comptb and comptb_6\n",
    "\n",
    "# Add the model to the spectral analysis system\n",
    "AllModels.setPars(m)\n",
    "\n",
    "# Set up the energy range of interest for plotting\n",
    "Plot.device = \"/null\"\n",
    "Plot.xAxis = \"keV\"\n",
    "Plot.show()\n",
    "Plot('model')\n",
    "m_energy = Plot.x()\n",
    "m_flux = Plot.model()\n",
    "\n",
    "plt.plot(energy, true_flux, label=\"True\")\n",
    "plt.plot(m_energy, m_flux, label=\"Model\")\n",
    "plt.xscale(\"log\")\n",
    "plt.ylabel(\"Flux(1 / keV cm^-2 s)\")\n",
    "plt.xlabel(\"Energy (KeV)\")"
   ]
  },
  {
   "cell_type": "code",
   "execution_count": 6,
   "metadata": {},
   "outputs": [
    {
     "data": {
      "text/plain": [
       "array([ 0.26330611, -5.30554533, 67.10677556, 42.36237335, -0.52969557,\n",
       "        1.68366265,  2.41373682,  4.76715422,  1.40932333, 57.98274209,\n",
       "        7.51668468,  0.76296748,  7.32482468])"
      ]
     },
     "execution_count": 6,
     "metadata": {},
     "output_type": "execute_result"
    }
   ],
   "source": [
    "par"
   ]
  },
  {
   "cell_type": "code",
   "execution_count": 7,
   "metadata": {},
   "outputs": [
    {
     "data": {
      "text/plain": [
       "[7.324824684084026, 0.07324824684084026, 0.0, 0.0, 1e+20, 1e+24]"
      ]
     },
     "execution_count": 7,
     "metadata": {},
     "output_type": "execute_result"
    }
   ],
   "source": [
    "m(19).values"
   ]
  },
  {
   "cell_type": "code",
   "execution_count": 8,
   "metadata": {},
   "outputs": [
    {
     "name": "stdout",
     "output_type": "stream",
     "text": [
      "\n",
      "========================================================================\n",
      "Model TBabs<1>(rdblur<2>*rfxconv<3>*comptb<4> + diskbb<5> + comptb<6>) Source No.: 1   Active/Off\n",
      "Model Model Component  Parameter  Unit     Value\n",
      " par  comp\n",
      "   1    1   TBabs      nH         10^22    0.263306     +/-  0.0          \n",
      "   2    2   rdblur     Betor10             -5.30555     +/-  0.0          \n",
      "   3    2   rdblur     Rin_M               67.1068      +/-  0.0          \n",
      "   4    2   rdblur     Rout_M              1000.00      frozen\n",
      "   5    2   rdblur     Incl       deg      42.3624      +/-  0.0          \n",
      "   6    3   rfxconv    rel_refl            -0.529696    +/-  0.0          \n",
      "   7    3   rfxconv    redshift            0.0          frozen\n",
      "   8    3   rfxconv    Fe_abund            1.68366      +/-  0.0          \n",
      "   9    3   rfxconv    cosIncl             0.738898     = COSD(p5)\n",
      "  10    3   rfxconv    log_xi              2.41374      +/-  0.0          \n",
      "  11    4   comptb     kTs        keV      4.76715      +/-  0.0          \n",
      "  12    4   comptb     gamma               3.00000      frozen\n",
      "  13    4   comptb     alpha               1.40932      +/-  0.0          \n",
      "  14    4   comptb     delta               20.0000      frozen\n",
      "  15    4   comptb     kTe        keV      57.9827      +/-  0.0          \n",
      "  16    4   comptb     log_A               8.00000      frozen\n",
      "  17    4   comptb     norm                7.51668      +/-  0.0          \n",
      "  18    5   diskbb     Tin        keV      0.762967     +/-  0.0          \n",
      "  19    5   diskbb     norm                7.32482      +/-  0.0          \n",
      "  20    6   comptb     kTs        keV      4.76715      = p11\n",
      "  21    6   comptb     gamma               3.00000      = p12\n",
      "  22    6   comptb     alpha               1.40932      = p13\n",
      "  23    6   comptb     delta               20.0000      = p14\n",
      "  24    6   comptb     kTe        keV      57.9827      = p15\n",
      "  25    6   comptb     log_A               8.00000      = p16\n",
      "  26    6   comptb     norm                7.51668      = p17\n",
      "________________________________________________________________________\n",
      "\n"
     ]
    }
   ],
   "source": [
    "m.show()"
   ]
  }
 ],
 "metadata": {
  "kernelspec": {
   "display_name": "tensorflow",
   "language": "python",
   "name": "python3"
  },
  "language_info": {
   "codemirror_mode": {
    "name": "ipython",
    "version": 3
   },
   "file_extension": ".py",
   "mimetype": "text/x-python",
   "name": "python",
   "nbconvert_exporter": "python",
   "pygments_lexer": "ipython3",
   "version": "3.9.18"
  }
 },
 "nbformat": 4,
 "nbformat_minor": 2
}
