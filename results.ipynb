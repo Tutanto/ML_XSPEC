{
 "cells": [
  {
   "cell_type": "code",
   "execution_count": 12,
   "metadata": {},
   "outputs": [],
   "source": [
    "import numpy as np\n",
    "from joblib import load\n",
    "from pathlib import Path\n",
    "from xspec import AllModels, AllData, Model, Plot\n",
    "from tensorflow.keras.models import load_model\n",
    "\n",
    "import matplotlib.pyplot as plt\n",
    "\n",
    "from modules.network import r_squared"
   ]
  },
  {
   "cell_type": "code",
   "execution_count": 13,
   "metadata": {},
   "outputs": [
    {
     "name": "stdout",
     "output_type": "stream",
     "text": [
      "\n",
      "\n",
      "========================================================================\n",
      "Model TBabs<1>(rdblur<2>*rfxconv<3>*comptb<4> + diskbb<5> + comptb<6>) Source No.: 1   Active/Off\n",
      "Model Model Component  Parameter  Unit     Value\n",
      " par  comp\n",
      "User entered plot commands:\n",
      "   1    1   TBabs      nH         10^22    1.00000      +/-  0.0          \n",
      "   2    2   rdblur     Betor10             -2.00000     frozen\n",
      "   3    2   rdblur     Rin_M               10.0000      frozen\n",
      "   4    2   rdblur     Rout_M              1000.00      frozen\n",
      "   5    2   rdblur     Incl       deg      30.0000      +/-  0.0          \n",
      "   6    3   rfxconv    rel_refl            -1.00000     +/-  0.0          \n",
      "   7    3   rfxconv    redshift            0.0          frozen\n",
      "   8    3   rfxconv    Fe_abund            1.00000      frozen\n",
      "   9    3   rfxconv    cosIncl             0.500000     frozen\n",
      "  10    3   rfxconv    log_xi              1.00000      +/-  0.0          \n",
      "  11    4   comptb     kTs        keV      1.00000      +/-  0.0          \n",
      "  12    4   comptb     gamma               3.00000      frozen\n",
      "  13    4   comptb     alpha               2.00000      +/-  0.0          \n",
      "  14    4   comptb     delta               20.0000      +/-  0.0          \n",
      "  15    4   comptb     kTe        keV      5.00000      +/-  0.0          \n",
      "  16    4   comptb     log_A               0.0          +/-  0.0          \n",
      "  17    4   comptb     norm                1.00000      +/-  0.0          \n",
      "  18    5   diskbb     Tin        keV      1.00000      +/-  0.0          \n",
      "  19    5   diskbb     norm                1.00000      +/-  0.0          \n",
      "  20    6   comptb     kTs        keV      1.00000      +/-  0.0          \n",
      "  21    6   comptb     gamma               3.00000      frozen\n",
      "  22    6   comptb     alpha               2.00000      +/-  0.0          \n",
      "  23    6   comptb     delta               20.0000      +/-  0.0          \n",
      "  24    6   comptb     kTe        keV      5.00000      +/-  0.0          \n",
      "  25    6   comptb     log_A               0.0          +/-  0.0          \n",
      "  26    6   comptb     norm                1.00000      +/-  0.0          \n",
      "________________________________________________________________________\n",
      "\n",
      " Plot settings:\n",
      "   Showing of individual additive components is OFF.\n",
      "   Showing of background spectra is OFF.\n",
      "   Effective area normalization is OFF.\n",
      "   Current unit settings:\n",
      "      Energy     = keV\n",
      "      Wavelength = angstrom, with Y-Axis displayed per Hz\n",
      "   X-Axis data display mode: Energy\n",
      "   Spectra plots will be shifted to source frame by redshift value z: 0\n",
      "   Device: /null\n",
      "   Plotting of line IDs is OFF.\n",
      "   Splashpage is ON.\n",
      "   xlog for data plots is ON.\n",
      "   ylog for data plots is OFF.\n",
      "\n",
      "   Default plot rebin settings for all plot groups:\n",
      "   Min. Signif.   Max. # Bins   Error Type\n",
      "        0.00000             1         quad\n",
      "No plot commands have been entered.\n"
     ]
    },
    {
     "data": {
      "text/plain": [
       "Text(0.5, 0, 'Energy (KeV)')"
      ]
     },
     "execution_count": 13,
     "metadata": {},
     "output_type": "execute_result"
    },
    {
     "data": {
      "image/png": "[encoded data removed]",
      "text/plain": [
       "<Figure size 640x480 with 1 Axes>"
      ]
     },
     "metadata": {},
     "output_type": "display_data"
    }
   ],
   "source": [
    "# Clear existing XSPEC models and data\n",
    "AllModels.clear()\n",
    "AllData.clear()\n",
    "AllData.dummyrsp(0.7 ,100.)\n",
    "\n",
    "# Create the model\n",
    "model_name = \"TBabs*(rdblur*rfxconv*comptb + diskbb + comptb)\"\n",
    "true_model = Model(model_name)\n",
    "\n",
    "# Set up the energy range of interest for plotting\n",
    "Plot.device = \"/null\"\n",
    "Plot.xAxis = \"keV\"\n",
    "Plot.show()\n",
    "Plot('model')\n",
    "energy = Plot.x()\n",
    "true_flux = Plot.model()\n",
    "\n",
    "plt.plot(energy, true_flux)\n",
    "plt.xscale(\"log\")\n",
    "plt.ylabel(\"Flux(1 / keV cm^-2 s)\")\n",
    "plt.xlabel(\"Energy (KeV)\")"
   ]
  },
  {
   "cell_type": "code",
   "execution_count": 15,
   "metadata": {},
   "outputs": [
    {
     "name": "stderr",
     "output_type": "stream",
     "text": [
      "2024-01-09 14:20:00.854175: I external/local_xla/xla/stream_executor/cuda/cuda_dnn.cc:454] Loaded cuDNN version 8904\n"
     ]
    },
    {
     "name": "stdout",
     "output_type": "stream",
     "text": [
      "1/1 [==============================] - 6s 6s/step\n"
     ]
    }
   ],
   "source": [
    "path_to_logs = Path(Path.cwd() / 'logs')\n",
    "log_dir = path_to_logs / 'fit'\n",
    "model_file_path = log_dir / 'my_model.h5'\n",
    "\n",
    "# Load the model\n",
    "model = load_model(model_file_path, custom_objects={'r_squared': r_squared})\n",
    "# Load the saved scaler\n",
    "X_scaler = load(log_dir / 'X_scaler.joblib')\n",
    "Y_scaler = load(log_dir / 'Y_scaler.joblib')\n",
    "\n",
    "X_new_scaled = X_scaler.transform([true_flux])\n",
    "\n",
    "# Make predictions\n",
    "prediction = model.predict(X_new_scaled)\n",
    "parameters = Y_scaler.inverse_transform(prediction)"
   ]
  },
  {
   "cell_type": "code",
   "execution_count": 16,
   "metadata": {},
   "outputs": [
    {
     "data": {
      "text/plain": [
       "array([[ 4.7391348e+00, -1.0764434e+01,  4.7140085e+02,  4.2210472e+01,\n",
       "        -5.3278267e-01,  1.6714867e+00,  6.0136700e-01,  2.3922615e+00,\n",
       "        -1.3312198e+00, -1.2990613e-01,  4.1545966e+02,  4.7191043e+19,\n",
       "         1.5239259e+02]], dtype=float32)"
      ]
     },
     "execution_count": 16,
     "metadata": {},
     "output_type": "execute_result"
    }
   ],
   "source": [
    "parameters"
   ]
  },
  {
   "cell_type": "code",
   "execution_count": 26,
   "metadata": {},
   "outputs": [
    {
     "name": "stdout",
     "output_type": "stream",
     "text": [
      "kTs\n",
      "gamma\n",
      "alpha\n",
      "delta\n",
      "kTe\n",
      "log_A\n",
      "norm\n"
     ]
    }
   ],
   "source": [
    "true_model(20).name\n",
    "start = 20  # Number of the first parameter of comptb_6\n",
    "for i in range(start, start + len(true_model.comptb_6.parameterNames)):\n",
    "    print(true_model(i).name)"
   ]
  },
  {
   "cell_type": "code",
   "execution_count": 72,
   "metadata": {},
   "outputs": [],
   "source": [
    "params_dict = {}\n",
    "for i in range(1, true_model.nParameters+1):\n",
    "    if not true_model(i).frozen and not true_model(i).link:\n",
    "        params_dict[str(i)] = true_model(i).values[0]"
   ]
  },
  {
   "cell_type": "code",
   "execution_count": 73,
   "metadata": {},
   "outputs": [
    {
     "data": {
      "text/plain": [
       "{'1': 1.0,\n",
       " '2': -2.0,\n",
       " '3': 10.0,\n",
       " '5': 30.0,\n",
       " '6': -1.0,\n",
       " '8': 1.0,\n",
       " '10': 1.0,\n",
       " '11': 1.0,\n",
       " '13': 2.0,\n",
       " '15': 5.0,\n",
       " '17': 1.0,\n",
       " '18': 1.0,\n",
       " '19': 1.0}"
      ]
     },
     "execution_count": 73,
     "metadata": {},
     "output_type": "execute_result"
    }
   ],
   "source": [
    "params_dict"
   ]
  },
  {
   "cell_type": "code",
   "execution_count": 70,
   "metadata": {},
   "outputs": [
    {
     "name": "stdout",
     "output_type": "stream",
     "text": [
      "  parameter 4 is already frozen.\n",
      "  parameter 12 is already frozen.\n"
     ]
    }
   ],
   "source": [
    "# Changing default frozen parameters to unfrozen\n",
    "true_model.rdblur.Betor10.frozen = False\n",
    "true_model.rdblur.Rout_M.frozen = True\n",
    "true_model.rdblur.Rin_M.frozen = False\n",
    "true_model.rfxconv.Fe_abund.frozen = False\n",
    "true_model.comptb.gamma.frozen = True\n",
    "true_model.comptb.delta.frozen = True\n",
    "true_model.comptb.log_A.frozen = True\n",
    "\n",
    "# Fixing values, upper and lower limits\n",
    "true_model.TBabs.nH.values = [1.0, 0.01, 0.01, 0.01, 10.0, 10.0]\n",
    "true_model.rdblur.Betor10.values = [-2, 0.02, -10.0,-10.0, 0,0]\n",
    "true_model.rfxconv.rel_refl.values = [-1.0, 0.01, -1, -1, 0, 0]\n",
    "true_model.rfxconv.log_xi.values = [1.0, 0.01, 1.0, 1.0, 4.0, 4.0]\n",
    "true_model.comptb.alpha.values = [2, 0.02, 0, 0, 3, 3]\n",
    "true_model.comptb.kTe.values = [5, 0.05, 5, 5, 1000, 1000]\n",
    "\n",
    "# Linking the parameters\n",
    "true_model.rfxconv.cosIncl.link = \"COSD(5)\"\n",
    "\n",
    "start = 20  # Number of the first parameter of comptb_6\n",
    "for i in range(start, start + len(true_model.comptb_6.parameterNames)):\n",
    "    true_model(i).link = true_model(i-9) # 9 is the separation between comptb and comptb_6\n"
   ]
  },
  {
   "cell_type": "code",
   "execution_count": 71,
   "metadata": {},
   "outputs": [
    {
     "name": "stdout",
     "output_type": "stream",
     "text": [
      "\n",
      "========================================================================\n",
      "Model TBabs<1>(rdblur<2>*rfxconv<3>*comptb<4> + diskbb<5> + comptb<6>) Source No.: 1   Active/Off\n",
      "Model Model Component  Parameter  Unit     Value\n",
      " par  comp\n",
      "   1    1   TBabs      nH         10^22    1.00000      +/-  0.0          \n",
      "   2    2   rdblur     Betor10             -2.00000     +/-  0.0          \n",
      "   3    2   rdblur     Rin_M               10.0000      +/-  0.0          \n",
      "   4    2   rdblur     Rout_M              1000.00      frozen\n",
      "   5    2   rdblur     Incl       deg      30.0000      +/-  0.0          \n",
      "   6    3   rfxconv    rel_refl            -1.00000     +/-  0.0          \n",
      "   7    3   rfxconv    redshift            0.0          frozen\n",
      "   8    3   rfxconv    Fe_abund            1.00000      +/-  0.0          \n",
      "   9    3   rfxconv    cosIncl             0.866025     = COSD(p5)\n",
      "  10    3   rfxconv    log_xi              1.00000      +/-  0.0          \n",
      "  11    4   comptb     kTs        keV      1.00000      +/-  0.0          \n",
      "  12    4   comptb     gamma               3.00000      frozen\n",
      "  13    4   comptb     alpha               2.00000      +/-  0.0          \n",
      "  14    4   comptb     delta               20.0000      frozen\n",
      "  15    4   comptb     kTe        keV      5.00000      +/-  0.0          \n",
      "  16    4   comptb     log_A               0.0          frozen\n",
      "  17    4   comptb     norm                1.00000      +/-  0.0          \n",
      "  18    5   diskbb     Tin        keV      1.00000      +/-  0.0          \n",
      "  19    5   diskbb     norm                1.00000      +/-  0.0          \n",
      "  20    6   comptb     kTs        keV      1.00000      = p11\n",
      "  21    6   comptb     gamma               3.00000      = p12\n",
      "  22    6   comptb     alpha               2.00000      = p13\n",
      "  23    6   comptb     delta               20.0000      = p14\n",
      "  24    6   comptb     kTe        keV      5.00000      = p15\n",
      "  25    6   comptb     log_A               0.0          = p16\n",
      "  26    6   comptb     norm                1.00000      = p17\n",
      "________________________________________________________________________\n",
      "\n"
     ]
    }
   ],
   "source": [
    "true_model.show()"
   ]
  },
  {
   "cell_type": "code",
   "execution_count": null,
   "metadata": {},
   "outputs": [],
   "source": []
  }
 ],
 "metadata": {
  "kernelspec": {
   "display_name": "tensorflow",
   "language": "python",
   "name": "python3"
  },
  "language_info": {
   "codemirror_mode": {
    "name": "ipython",
    "version": 3
   },
   "file_extension": ".py",
   "mimetype": "text/x-python",
   "name": "python",
   "nbconvert_exporter": "python",
   "pygments_lexer": "ipython3",
   "version": "3.9.18"
  }
 },
 "nbformat": 4,
 "nbformat_minor": 2
}
