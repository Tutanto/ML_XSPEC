{
 "cells": [
  {
   "cell_type": "code",
   "execution_count": 324,
   "metadata": {},
   "outputs": [],
   "source": [
    "import numpy as np\n",
    "from joblib import load\n",
    "from pathlib import Path\n",
    "from xspec import AllModels, AllData, Model, Plot\n",
    "from tensorflow.keras.models import load_model\n",
    "\n",
    "import matplotlib.pyplot as plt\n",
    "\n",
    "from modules.network import r_squared"
   ]
  },
  {
   "cell_type": "code",
   "execution_count": 325,
   "metadata": {},
   "outputs": [
    {
     "name": "stdout",
     "output_type": "stream",
     "text": [
      "\n",
      "========================================================================\n",
      "Model TBabs<1>(rdblur<2>*rfxconv<3>*comptb<4> + diskbb<5> + comptb<6>) Source No.: 1   Active/Off\n",
      "Model Model Component  Parameter  Unit     Value\n",
      " par  comp\n",
      "   1    1   TBabs      nH         10^22    1.00000      +/-  0.0          \n",
      "   2    2   rdblur     Betor10             -2.00000     frozen\n",
      "   3    2   rdblur     Rin_M               10.0000      frozen\n",
      "   4    2   rdblur     Rout_M              1000.00      frozen\n",
      "   5    2   rdblur     Incl       deg      30.0000      +/-  0.0          \n",
      "   6    3   rfxconv    rel_refl            -1.00000     +/-  0.0          \n",
      "   7    3   rfxconv    redshift            0.0          frozen\n",
      "   8    3   rfxconv    Fe_abund            1.00000      frozen\n",
      "   9    3   rfxconv    cosIncl             0.500000     frozen\n",
      "  10    3   rfxconv    log_xi              1.00000      +/-  0.0          \n",
      "  11    4   comptb     kTs        keV      1.00000      +/-  0.0          \n",
      "  12    4   comptb     gamma               3.00000      frozen\n",
      "  13    4   comptb     alpha               2.00000      +/-  0.0          \n",
      "  14    4   comptb     delta               20.0000      +/-  0.0          \n",
      "  15    4   comptb     kTe        keV      5.00000      +/-  0.0          \n",
      "  16    4   comptb     log_A               0.0          +/-  0.0          \n",
      "  17    4   comptb     norm                1.00000      +/-  0.0          \n",
      "  18    5   diskbb     Tin        keV      1.00000      +/-  0.0          \n",
      "  19    5   diskbb     norm                1.00000      +/-  0.0          \n",
      "  20    6   comptb     kTs        keV      1.00000      +/-  0.0          \n",
      "  21    6   comptb     gamma               3.00000      frozen\n",
      "  22    6   comptb     alpha               2.00000      +/-  0.0          \n",
      "  23    6   comptb     delta               20.0000      +/-  0.0          \n",
      "  24    6   comptb     kTe        keV      5.00000      +/-  0.0          \n",
      "  25    6   comptb     log_A               0.0          +/-  0.0          \n",
      "  26    6   comptb     norm                1.00000      +/-  0.0          \n",
      "________________________________________________________________________\n",
      "\n",
      "  parameter 4 is already frozen.\n",
      "  parameter 12 is already frozen.\n",
      "\n",
      "User entered plot commands:\n",
      " Plot settings:\n",
      "   Showing of individual additive components is OFF.\n",
      "   Showing of background spectra is OFF.\n",
      "   Effective area normalization is OFF.\n",
      "   Current unit settings:\n",
      "      Energy     = keV\n",
      "      Wavelength = angstrom, with Y-Axis displayed per Hz\n",
      "   X-Axis data display mode: Energy\n",
      "   Spectra plots will be shifted to source frame by redshift value z: 0\n",
      "   Device: /null\n",
      "   Plotting of line IDs is OFF.\n",
      "   Splashpage is ON.\n",
      "   xlog for data plots is ON.\n",
      "   ylog for data plots is OFF.\n",
      "\n",
      "   Default plot rebin settings for all plot groups:\n",
      "   Min. Signif.   Max. # Bins   Error Type\n",
      "        0.00000             1         quad\n",
      "No plot commands have been entered.\n"
     ]
    },
    {
     "data": {
      "text/plain": [
       "Text(0.5, 0, 'Energy (KeV)')"
      ]
     },
     "execution_count": 325,
     "metadata": {},
     "output_type": "execute_result"
    },
    {
     "data": {
      "image/png": "[encoded data removed]",
      "text/plain": [
       "<Figure size 640x480 with 1 Axes>"
      ]
     },
     "metadata": {},
     "output_type": "display_data"
    }
   ],
   "source": [
    "# Clear existing XSPEC models and data\n",
    "AllModels.clear()\n",
    "AllData.clear()\n",
    "AllData.dummyrsp(0.1 ,100.)\n",
    "\n",
    "# Create the model\n",
    "model_name = \"TBabs*(rdblur*rfxconv*comptb + diskbb + comptb)\"\n",
    "true_model = Model(model_name)\n",
    "\n",
    "# Changing default frozen parameters to unfrozen\n",
    "true_model.rdblur.Betor10.frozen = False\n",
    "true_model.rdblur.Rout_M.frozen = True\n",
    "true_model.rdblur.Rin_M.frozen = False\n",
    "true_model.rfxconv.Fe_abund.frozen = False\n",
    "true_model.comptb.gamma.frozen = True\n",
    "true_model.comptb.delta.frozen = True\n",
    "true_model.comptb.log_A.frozen = True\n",
    "\n",
    "true_model.rdblur.Rout_M.values = 1000\n",
    "true_model.comptb.log_A.values = 8\n",
    "\n",
    "# Linking the parameters\n",
    "true_model.rfxconv.cosIncl.link = \"COSD(5)\"\n",
    "\n",
    "start = 20  # Number of the first parameter of comptb_6\n",
    "for i in range(start, start + len(true_model.comptb_6.parameterNames)):\n",
    "    true_model(i).link = true_model(i-9) # 9 is the separation between comptb and comptb_6\n",
    "\n",
    "# Collect the relevant parameter (the ones not frozen or linked)\n",
    "relevant_par = []\n",
    "for n_par in range(1, true_model.nParameters + 1):\n",
    "    if not true_model(n_par).frozen and not true_model(n_par).link:\n",
    "        relevant_par.append(n_par)\n",
    "\n",
    "\n",
    "# Set up the energy range of interest for plotting\n",
    "Plot.device = \"/null\"\n",
    "Plot.xAxis = \"keV\"\n",
    "Plot.show()\n",
    "Plot('model')\n",
    "energy = Plot.x()\n",
    "true_flux = Plot.model()\n",
    "\n",
    "plt.plot(energy, true_flux)\n",
    "plt.xscale(\"log\")\n",
    "plt.ylabel(\"Flux(1 / keV cm^-2 s)\")\n",
    "plt.xlabel(\"Energy (KeV)\")"
   ]
  },
  {
   "cell_type": "code",
   "execution_count": 326,
   "metadata": {},
   "outputs": [
    {
     "name": "stdout",
     "output_type": "stream",
     "text": [
      "[1.0, 0.01, 0.0, 0.0, 100000.0, 1000000.0]\n",
      "[-2.0, 0.02, -10.0, -10.0, 20.0, 20.0]\n",
      "[10.0, 0.1, 6.0, 6.0, 1000.0, 10000.0]\n",
      "[30.0, 0.3, 0.0, 0.0, 90.0, 90.0]\n",
      "[-1.0, 0.01, -1.0, -1.0, 1000000.0, 1000000.0]\n",
      "[1.0, 0.01, 0.5, 0.5, 3.0, 3.0]\n",
      "[1.0, 0.01, 1.0, 1.0, 6.0, 6.0]\n",
      "[1.0, 0.01, 0.1, 0.1, 10.0, 10.0]\n",
      "[2.0, 0.02, 0.0, 0.0, 400.0, 400.0]\n",
      "[5.0, 0.05, 0.2, 0.2, 2000.0, 2000.0]\n",
      "[1.0, 0.01, 0.0, 0.0, 1e+20, 1e+24]\n",
      "[1.0, 0.01, 0.0, 0.0, 1000.0, 1000.0]\n",
      "[1.0, 0.01, 0.0, 0.0, 1e+20, 1e+24]\n"
     ]
    }
   ],
   "source": [
    "for n_par in range(1, true_model.nParameters + 1):\n",
    "    if not true_model(n_par).frozen and not true_model(n_par).link:\n",
    "        print(true_model(n_par).values)\n"
   ]
  },
  {
   "cell_type": "code",
   "execution_count": 327,
   "metadata": {},
   "outputs": [
    {
     "name": "stdout",
     "output_type": "stream",
     "text": [
      "WARNING:tensorflow:11 out of the last 11 calls to <function Model.make_predict_function.<locals>.predict_function at 0x7fe8d06c3430> triggered tf.function retracing. Tracing is expensive and the excessive number of tracings could be due to (1) creating @tf.function repeatedly in a loop, (2) passing tensors with different shapes, (3) passing Python objects instead of tensors. For (1), please define your @tf.function outside of the loop. For (2), @tf.function has experimental_relax_shapes=True option that relaxes argument shapes that can avoid unnecessary retracing. For (3), please refer to https://www.tensorflow.org/guide/function#controlling_retracing and https://www.tensorflow.org/api_docs/python/tf/function for  more details.\n"
     ]
    }
   ],
   "source": [
    "path_to_logs = Path(Path.cwd() / 'logs')\n",
    "log_dir = path_to_logs / 'fit' / 'ANN_512x5_400e'\n",
    "model_file_path = log_dir / 'my_model.h5'\n",
    "\n",
    "# Load the model\n",
    "model = load_model(model_file_path, custom_objects={'r_squared': r_squared})\n",
    "# Load the saved scaler\n",
    "X_scaler = load(log_dir / 'X_scaler.joblib')\n",
    "X_new_scaled = X_scaler.transform([true_flux])\n",
    "\n",
    "# Make predictions\n",
    "prediction = model.predict(X_new_scaled)\n",
    "# Load the scalers\n",
    "loaded_scalers = {}\n",
    "parameters = []\n",
    "for i in range(prediction.shape[1]):\n",
    "    loaded_scalers[i] = load(log_dir / f'scaler_{i}.joblib')\n",
    "    parameters.append(loaded_scalers[i].inverse_transform(prediction[0][i].reshape(-1,1)))\n",
    "# Extracting the single float value from each sub-array\n",
    "par = np.array([arr[0, 0] for arr in parameters]).astype(float)"
   ]
  },
  {
   "cell_type": "code",
   "execution_count": 328,
   "metadata": {},
   "outputs": [
    {
     "name": "stdout",
     "output_type": "stream",
     "text": [
      "\n",
      "========================================================================\n",
      "Model TBabs<1>(rdblur<2>*rfxconv<3>*comptb<4> + diskbb<5> + comptb<6>) Source No.: 1   Active/Off\n",
      "Model Model Component  Parameter  Unit     Value\n",
      " par  comp\n",
      "   1    1   TBabs      nH         10^22    1.00000      +/-  0.0          \n",
      "   2    2   rdblur     Betor10             -2.00000     frozen\n",
      "   3    2   rdblur     Rin_M               10.0000      frozen\n",
      "   4    2   rdblur     Rout_M              1000.00      frozen\n",
      "   5    2   rdblur     Incl       deg      30.0000      +/-  0.0          \n",
      "   6    3   rfxconv    rel_refl            -1.00000     +/-  0.0          \n",
      "   7    3   rfxconv    redshift            0.0          frozen\n",
      "   8    3   rfxconv    Fe_abund            1.00000      frozen\n",
      "   9    3   rfxconv    cosIncl             0.500000     frozen\n",
      "  10    3   rfxconv    log_xi              1.00000      +/-  0.0          \n",
      "  11    4   comptb     kTs        keV      1.00000      +/-  0.0          \n",
      "  12    4   comptb     gamma               3.00000      frozen\n",
      "  13    4   comptb     alpha               2.00000      +/-  0.0          \n",
      "  14    4   comptb     delta               20.0000      +/-  0.0          \n",
      "  15    4   comptb     kTe        keV      5.00000      +/-  0.0          \n",
      "  16    4   comptb     log_A               0.0          +/-  0.0          \n",
      "  17    4   comptb     norm                1.00000      +/-  0.0          \n",
      "  18    5   diskbb     Tin        keV      1.00000      +/-  0.0          \n",
      "  19    5   diskbb     norm                1.00000      +/-  0.0          \n",
      "  20    6   comptb     kTs        keV      1.00000      +/-  0.0          \n",
      "  21    6   comptb     gamma               3.00000      frozen\n",
      "  22    6   comptb     alpha               2.00000      +/-  0.0          \n",
      "  23    6   comptb     delta               20.0000      +/-  0.0          \n",
      "  24    6   comptb     kTe        keV      5.00000      +/-  0.0          \n",
      "  25    6   comptb     log_A               0.0          +/-  0.0          \n",
      "  26    6   comptb     norm                1.00000      +/-  0.0          \n",
      "________________________________________________________________________\n",
      "\n",
      "  parameter 4 is already frozen.\n",
      "  parameter 12 is already frozen.\n",
      "\n",
      " Plot settings:\n",
      "   Showing of individual additive components is OFF.\n",
      "   Showing of background spectra is OFF.\n",
      "   Effective area normalization is OFF.\n",
      "   Current unit settings:\n",
      "      Energy     = keV\n",
      "      Wavelength = angstrom, with Y-Axis displayed per Hz\n",
      "   X-Axis data display mode: Energy\n",
      "User entered plot commands:\n",
      "   Spectra plots will be shifted to source frame by redshift value z: 0\n",
      "   Device: /null\n",
      "   Plotting of line IDs is OFF.\n",
      "   Splashpage is ON.\n",
      "   xlog for data plots is ON.\n",
      "   ylog for data plots is OFF.\n",
      "\n",
      "   Default plot rebin settings for all plot groups:\n",
      "   Min. Signif.   Max. # Bins   Error Type\n",
      "        0.00000             1         quad\n",
      "No plot commands have been entered.\n"
     ]
    },
    {
     "data": {
      "text/plain": [
       "Text(0.5, 0, 'Energy (KeV)')"
      ]
     },
     "execution_count": 328,
     "metadata": {},
     "output_type": "execute_result"
    },
    {
     "data": {
      "image/png": "[encoded data removed]",
      "text/plain": [
       "<Figure size 640x480 with 1 Axes>"
      ]
     },
     "metadata": {},
     "output_type": "display_data"
    }
   ],
   "source": [
    "# Clear existing XSPEC models and data\n",
    "AllModels.clear()\n",
    "AllData.clear()\n",
    "AllData.dummyrsp(0.1 ,100.)\n",
    "\n",
    "# Create the model\n",
    "model_name = \"TBabs*(rdblur*rfxconv*comptb + diskbb + comptb)\"\n",
    "# Initialize the model with the scaled parameters\n",
    "m = Model(model_name)\n",
    "#m = Model(model_name, setPars={int(relevant_par[j]):par[j] for j in range(len(relevant_par))})\n",
    "\n",
    "# Changing default frozen parameters to unfrozen\n",
    "m.rdblur.Betor10.frozen = False\n",
    "m.rdblur.Rout_M.frozen = True\n",
    "m.rdblur.Rin_M.frozen = False\n",
    "m.rfxconv.Fe_abund.frozen = False\n",
    "m.comptb.gamma.frozen = True\n",
    "m.comptb.delta.frozen = True\n",
    "m.comptb.log_A.frozen = True\n",
    "\n",
    "m.rdblur.Rout_M.values = 1000\n",
    "m.comptb.log_A.values = 8\n",
    "\n",
    "#m(1).values = par[0]\n",
    "m(2).values = 0#par[1]\n",
    "m(3).values = 20#par[2]\n",
    "m(5).values = 60#par[3]\n",
    "#m(6).values = par[4]\n",
    "#m(8).values = par[5]\n",
    "#m(10).values = par[6]\n",
    "#m(11).values = 5#par[7]\n",
    "#m(13).values = par[8]\n",
    "m(15).values = 10#par[9]\n",
    "#m(17).values = par[10]\n",
    "#m(18).values = par[11]\n",
    "#m(19).values = par[12]\n",
    "\n",
    "m.rfxconv.cosIncl.link = \"COSD(5)\"\n",
    "# Linking comptb_6 (refletion) parameters to comptb (comptb)\n",
    "start = 20  # Number of the first parameter of comptb_6\n",
    "for i in range(start, start + len(m.comptb_6.parameterNames)):\n",
    "    m(i).link = m(i-9) # 9 is the separation between comptb and comptb_6\n",
    "\n",
    "# Add the model to the spectral analysis system\n",
    "AllModels.setPars(m)\n",
    "\n",
    "# Set up the energy range of interest for plotting\n",
    "Plot.device = \"/null\"\n",
    "Plot.xAxis = \"keV\"\n",
    "Plot.show()\n",
    "Plot('model')\n",
    "m_energy = Plot.x()\n",
    "m_flux = Plot.model()\n",
    "\n",
    "plt.plot(energy, true_flux, label=\"True\")\n",
    "plt.plot(m_energy, m_flux, label=\"Model\")\n",
    "plt.xscale(\"log\")\n",
    "plt.ylabel(\"Flux(1 / keV cm^-2 s)\")\n",
    "plt.xlabel(\"Energy (KeV)\")"
   ]
  },
  {
   "cell_type": "code",
   "execution_count": 329,
   "metadata": {},
   "outputs": [
    {
     "data": {
      "text/plain": [
       "array([ 4.75641489e+00, -5.20729065e+00,  4.72843079e+02,  4.18238068e+01,\n",
       "       -5.30123651e-01,  1.67238462e+00,  2.39943290e+00,  4.77143335e+00,\n",
       "        1.41986418e+00,  2.50799973e+02,  4.72976081e+19,  4.12868500e+01,\n",
       "        3.83181825e+19])"
      ]
     },
     "execution_count": 329,
     "metadata": {},
     "output_type": "execute_result"
    }
   ],
   "source": [
    "par"
   ]
  },
  {
   "cell_type": "code",
   "execution_count": 334,
   "metadata": {},
   "outputs": [
    {
     "data": {
      "text/plain": [
       "[1.0, 0.01, 0.0, 0.0, 1e+20, 1e+24]"
      ]
     },
     "execution_count": 334,
     "metadata": {},
     "output_type": "execute_result"
    }
   ],
   "source": [
    "m(19).values"
   ]
  },
  {
   "cell_type": "code",
   "execution_count": 331,
   "metadata": {},
   "outputs": [
    {
     "name": "stdout",
     "output_type": "stream",
     "text": [
      "\n",
      "========================================================================\n",
      "Model TBabs<1>(rdblur<2>*rfxconv<3>*comptb<4> + diskbb<5> + comptb<6>) Source No.: 1   Active/Off\n",
      "Model Model Component  Parameter  Unit     Value\n",
      " par  comp\n",
      "   1    1   TBabs      nH         10^22    1.00000      +/-  0.0          \n",
      "   2    2   rdblur     Betor10             0.0          +/-  0.0          \n",
      "   3    2   rdblur     Rin_M               20.0000      +/-  0.0          \n",
      "   4    2   rdblur     Rout_M              1000.00      frozen\n",
      "   5    2   rdblur     Incl       deg      60.0000      +/-  0.0          \n",
      "   6    3   rfxconv    rel_refl            -1.00000     +/-  0.0          \n",
      "   7    3   rfxconv    redshift            0.0          frozen\n",
      "   8    3   rfxconv    Fe_abund            1.00000      +/-  0.0          \n",
      "   9    3   rfxconv    cosIncl             0.500000     = COSD(p5)\n",
      "  10    3   rfxconv    log_xi              1.00000      +/-  0.0          \n",
      "  11    4   comptb     kTs        keV      1.00000      +/-  0.0          \n",
      "  12    4   comptb     gamma               3.00000      frozen\n",
      "  13    4   comptb     alpha               2.00000      +/-  0.0          \n",
      "  14    4   comptb     delta               20.0000      frozen\n",
      "  15    4   comptb     kTe        keV      10.0000      +/-  0.0          \n",
      "  16    4   comptb     log_A               8.00000      frozen\n",
      "  17    4   comptb     norm                1.00000      +/-  0.0          \n",
      "  18    5   diskbb     Tin        keV      1.00000      +/-  0.0          \n",
      "  19    5   diskbb     norm                1.00000      +/-  0.0          \n",
      "  20    6   comptb     kTs        keV      1.00000      = p11\n",
      "  21    6   comptb     gamma               3.00000      = p12\n",
      "  22    6   comptb     alpha               2.00000      = p13\n",
      "  23    6   comptb     delta               20.0000      = p14\n",
      "  24    6   comptb     kTe        keV      10.0000      = p15\n",
      "  25    6   comptb     log_A               8.00000      = p16\n",
      "  26    6   comptb     norm                1.00000      = p17\n",
      "________________________________________________________________________\n",
      "\n"
     ]
    }
   ],
   "source": [
    "m.show()"
   ]
  },
  {
   "cell_type": "code",
   "execution_count": 332,
   "metadata": {},
   "outputs": [
    {
     "name": "stdout",
     "output_type": "stream",
     "text": [
      "culo\n",
      "no\n",
      "culo\n",
      "no\n",
      "no\n",
      "no\n",
      "no\n",
      "no\n",
      "no\n"
     ]
    }
   ],
   "source": [
    "for i in range(1, 10):\n",
    "    if m(i).name == 'nH' or m(i).name == 'Rin_M':\n",
    "        print(\"culo\")\n",
    "    else:\n",
    "        print(\"no\")"
   ]
  },
  {
   "cell_type": "code",
   "execution_count": 333,
   "metadata": {},
   "outputs": [
    {
     "name": "stdout",
     "output_type": "stream",
     "text": [
      "culo\n",
      "no\n",
      "culo\n",
      "no\n",
      "no\n",
      "no\n",
      "no\n",
      "no\n",
      "no\n",
      "no\n",
      "no\n",
      "no\n",
      "no\n",
      "no\n",
      "culo\n",
      "no\n",
      "culo\n",
      "culo\n",
      "culo\n"
     ]
    }
   ],
   "source": [
    "loga = ['nH', 'Rin_M', 'kTe', 'norm', 'Tin']\n",
    "for i in range(1, 20):\n",
    "    if m(i).name in loga:\n",
    "        print(\"culo\")\n",
    "    else:\n",
    "        print(\"no\")"
   ]
  },
  {
   "cell_type": "code",
   "execution_count": 336,
   "metadata": {},
   "outputs": [],
   "source": [
    "m(i).values = 2"
   ]
  },
  {
   "cell_type": "code",
   "execution_count": 341,
   "metadata": {},
   "outputs": [],
   "source": [
    "m(i).values = 10**m(i).values[0]"
   ]
  },
  {
   "cell_type": "code",
   "execution_count": 342,
   "metadata": {},
   "outputs": [
    {
     "data": {
      "text/plain": [
       "[100.0, 1.0, 0.0, 0.0, 1e+20, 1e+24]"
      ]
     },
     "execution_count": 342,
     "metadata": {},
     "output_type": "execute_result"
    }
   ],
   "source": [
    "m(i).values"
   ]
  },
  {
   "cell_type": "code",
   "execution_count": null,
   "metadata": {},
   "outputs": [],
   "source": []
  }
 ],
 "metadata": {
  "kernelspec": {
   "display_name": "tensorflow",
   "language": "python",
   "name": "python3"
  },
  "language_info": {
   "codemirror_mode": {
    "name": "ipython",
    "version": 3
   },
   "file_extension": ".py",
   "mimetype": "text/x-python",
   "name": "python",
   "nbconvert_exporter": "python",
   "pygments_lexer": "ipython3",
   "version": "3.9.18"
  }
 },
 "nbformat": 4,
 "nbformat_minor": 2
}
